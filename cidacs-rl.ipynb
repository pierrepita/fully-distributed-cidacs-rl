{
 "cells": [
  {
   "cell_type": "code",
   "execution_count": 1,
   "metadata": {},
   "outputs": [],
   "source": [
    "import pyspark.sql.functions as F\n",
    "from pyspark.sql.types import *\n",
    "import pyspark.sql.types as T\n",
    "\n",
    "import jellyfish\n",
    "from elasticsearch import Elasticsearch\n",
    "import json"
   ]
  },
  {
   "cell_type": "code",
   "execution_count": 2,
   "metadata": {},
   "outputs": [],
   "source": [
    "import pandas as pd\n",
    "pd.set_option(\"display.max_rows\", 999)\n",
    "pd.set_option(\"display.max_columns\", 999)"
   ]
  },
  {
   "cell_type": "code",
   "execution_count": 3,
   "metadata": {},
   "outputs": [
    {
     "data": {
      "text/plain": [
       "{'index_data': 'yes',\n",
       " 'es_index_name': 'fd-cidacs-rl',\n",
       " 'es_connect_string': 'http://localhost:9200',\n",
       " 'query_size': 50,\n",
       " 'cutoff_exact_match': '0.95',\n",
       " 'null_value': '99',\n",
       " 'temp_dir': '../0_global_data/fd-cidacs-rl/temp_dataframe/',\n",
       " 'datasets_info': {'indexed_dataset': {'path': '../0_global_data/fd-cidacs-rl/sinthetic-dataset-A.parquet',\n",
       "   'extension': 'parquet',\n",
       "   'columns': ['id_cidacs_a', 'nome_a', 'nome_mae_a', 'dt_nasc_a', 'sexo_a'],\n",
       "   'id_column_name': 'id_cidacs_a'},\n",
       "  'tolink_dataset': {'path': '../0_global_data/fd-cidacs-rl/sinthetic-datasets-b/sinthetic-datasets-b-1000.parquet',\n",
       "   'extension': 'parquet',\n",
       "   'columns': ['id_cidacs_b', 'nome_b', 'nome_mae_b', 'dt_nasc_b', 'sexo_b'],\n",
       "   'id_column_name': 'id_cidacs_b'},\n",
       "  'result_dataset': {'path': '../0_global_data/result/'}},\n",
       " 'comparisons': {'name': {'indexed_col': 'nome_a',\n",
       "   'tolink_col': 'nome_b',\n",
       "   'must_match': 'true',\n",
       "   'should_match': 'true',\n",
       "   'is_fuzzy': 'true',\n",
       "   'boost': '3.0',\n",
       "   'query_type': 'match',\n",
       "   'similarity': 'jaro_winkler',\n",
       "   'weight': 5.0,\n",
       "   'penalty': 0.02},\n",
       "  'mothers_name': {'indexed_col': 'nome_mae_a',\n",
       "   'tolink_col': 'nome_mae_b',\n",
       "   'must_match': 'true',\n",
       "   'should_match': 'true',\n",
       "   'is_fuzzy': 'true',\n",
       "   'boost': '2.0',\n",
       "   'query_type': 'match',\n",
       "   'similarity': 'jaro_winkler',\n",
       "   'weight': 5.0,\n",
       "   'penalty': 0.02},\n",
       "  'birthdate': {'indexed_col': 'dt_nasc_a',\n",
       "   'tolink_col': 'dt_nasc_b',\n",
       "   'must_match': 'false',\n",
       "   'should_match': 'true',\n",
       "   'is_fuzzy': 'false',\n",
       "   'boost': '',\n",
       "   'query_type': 'term',\n",
       "   'similarity': 'hamming',\n",
       "   'weight': 1.0,\n",
       "   'penalty': 0.02},\n",
       "  'sex': {'indexed_col': 'sexo_a',\n",
       "   'tolink_col': 'sexo_b',\n",
       "   'must_match': 'true',\n",
       "   'should_match': 'true',\n",
       "   'is_fuzzy': 'false',\n",
       "   'boost': '',\n",
       "   'query_type': 'term',\n",
       "   'similarity': 'overlap',\n",
       "   'weight': 3.0,\n",
       "   'penalty': 0.02}}}"
      ]
     },
     "execution_count": 3,
     "metadata": {},
     "output_type": "execute_result"
    }
   ],
   "source": [
    "f = open('config.txt')\n",
    "config = json.load(f)\n",
    "config_bc = sc.broadcast(config)\n",
    "config"
   ]
  },
  {
   "cell_type": "markdown",
   "metadata": {},
   "source": [
    "# ES functions"
   ]
  },
  {
   "cell_type": "markdown",
   "metadata": {},
   "source": [
    "#### auxiliary functions"
   ]
  },
  {
   "cell_type": "code",
   "execution_count": 4,
   "metadata": {
    "jupyter": {
     "source_hidden": true
    }
   },
   "outputs": [],
   "source": [
    "def get_match_cols_and_values(vars_col, query_type, add_id_col):\n",
    "    \"\"\"\n",
    "    query_type must be 'exact' for building exact queries or 'general' for any else query and comparison.\n",
    "    \"\"\"\n",
    "    config_ = config_bc.value\n",
    "    # getting names of indexed columns\n",
    "    indexed_id_column = config_['datasets_info']['indexed_dataset']['id_column_name']\n",
    "    \n",
    "    indexed_cols = config_['datasets_info']['indexed_dataset']['columns']\n",
    "    \n",
    "#     if query_type == 'general':\n",
    "#         indexed_cols = [x for x in indexed_cols if x != indexed_id_column]\n",
    "        \n",
    "    # notice that we are linking indexed keys with tolink values\n",
    "    # the keys will be used to set which field will be fetched on es\n",
    "    # the values will be used as search content\n",
    "    tolink_cols_dict = dict(zip(indexed_cols, vars_col))\n",
    "    \n",
    "    if add_id_col == False:\n",
    "        tolink_cols_dict.pop(indexed_id_column, None)\n",
    "    \n",
    "    if query_type == 'general':\n",
    "        return tolink_cols_dict\n",
    "    elif query_type == 'exact':\n",
    "        # finding which are the columns used on exact match step\n",
    "        indexed_exact_match_vars = [indexed_id_column] + [config_['comparisons'][x]['indexed_col'] for x in config_['comparisons'] if config_['comparisons'][x]['must_match'] == 'true']\n",
    "        non_exact_match_cols = list(set(indexed_cols) - set(indexed_exact_match_vars))\n",
    "        # deleting those columns of non-exact match\n",
    "        [tolink_cols_dict.pop(x, None) for x in non_exact_match_cols]\n",
    "        \n",
    "        return tolink_cols_dict\n",
    "    else: \n",
    "        print(\"Please use 'general' or 'exact' as query_type input\")\n",
    "        return None, None"
   ]
  },
  {
   "cell_type": "markdown",
   "metadata": {},
   "source": [
    "#### indexing"
   ]
  },
  {
   "cell_type": "code",
   "execution_count": 5,
   "metadata": {
    "jupyter": {
     "source_hidden": true
    }
   },
   "outputs": [],
   "source": [
    "def index_dataframe(dataframe, es_index_name):\n",
    "    # creating new index\n",
    "    dataframe.write.format(\"org.elasticsearch.spark.sql\") \\\n",
    "                 .option(\"es.resource\", es_index_name).mode('overwrite').save()"
   ]
  },
  {
   "cell_type": "markdown",
   "metadata": {},
   "source": [
    "#### query building"
   ]
  },
  {
   "cell_type": "code",
   "execution_count": 6,
   "metadata": {},
   "outputs": [],
   "source": [
    "def build_exact_queries(vars_col): \n",
    "    \"\"\"\n",
    "    Let us suppose the following values:\n",
    "    vars_col = ['ROBESPIERRE PITA', '1987-05-05', '1', 'Mari Santos']\n",
    "    indexed_cols = ['name', 'birthdate', 'sex', 'mothers_name']\n",
    "    query_size = 10\n",
    "    \n",
    "    and only the first two attributes are assigned to exact match.\n",
    "    So, the resulting query column would be: \n",
    "    '{ \"size\": \"50\", \"query\": \n",
    "                    { \"bool\": { \"must\": [ \n",
    "                                {\"match\": {\"name\":\"ROBESPIERRE PITA\"}},\n",
    "                                {\"match\": {\"birthdate\":\"19870505\"}}] } } }'\n",
    "    Requirements: \n",
    "    - All values on vars_col must be converted into string\n",
    "    - All the hyphens symbols must be taken from date type used to search (e.g. 1987-05-05 must be converted to 19870505)\n",
    "    - The config json must be available as a broadcast through sc.broadcast() function.\n",
    "    - The names of indexed columns must be correctly filled. \n",
    "    \"\"\"\n",
    "    config_ = config_bc.value\n",
    "    query_size = config_['query_size']\n",
    "    \n",
    "    tolink_cols_dict = get_match_cols_and_values(vars_col, 'exact', False)\n",
    "    \n",
    "    # -------------------------------------------- #\n",
    "    #   starting the building of query string      #\n",
    "    # -------------------------------------------- #\n",
    "    # setting the preffix and suffix of query core\n",
    "    prefix_ = \"\"\"{\"match\": {\"\"\"\n",
    "    suffix_ = \"\"\"}}\"\"\"\n",
    "    \n",
    "    # filling the query core with all indexed columns and values from vars_col\n",
    "    strings = []\n",
    "    for col in list(tolink_cols_dict.keys()):\n",
    "        string = str(prefix_) + \"\\\"\" + str(col) + \"\\\"\" + \":\" + \"\\\"\" +  str(tolink_cols_dict[col]) + \"\\\"\" + str(suffix_)\n",
    "        strings.append(string)\n",
    "    \n",
    "    # building the query core. \n",
    "    # Should be like: {\"match\": {\"name\":\"ROBESPIERRE PITA\"}}, {\"birthdate\": {\"name\":\"1987-05-05\"}}\n",
    "    line = ','.join(strings)\n",
    "    \n",
    "    # Finally the final query string\n",
    "    complete_query = \"\"\"{ \"size\": \"%s\", \"query\": { \"bool\": { \"must\": [ %s ] } } }\"\"\" % (query_size,line)\n",
    "    \n",
    "    return complete_query\n",
    "udf_build_exact_queries = F.udf(build_exact_queries, StringType()) \n",
    "\n",
    "def build_non_exact_queries(vars_col): \n",
    "    \"\"\"\n",
    "    Let us suppose the following values:\n",
    "    vars_col = ['ROBESPIERRE PITA', '1987-05-05', '1', 'Mari Santos']\n",
    "    indexed_cols = ['name', 'birthdate', 'sex', 'mothers_name']\n",
    "    query_size = 10\n",
    "    \n",
    "    and only the first two attributes are assigned to exact match.\n",
    "    So, the resulting query column would be: \n",
    "    '{ \"size\": \"50\", \n",
    "         \"query\": { \n",
    "             \"bool\": { \n",
    "                 \"should\": [ \n",
    "                     {\"match\": {\"nome_a\":\"ROBESPIERRE PITA\", \"fuzziness\":\"AUTO\", \"operator\":\"or\", \"boost\":\"3.0\"}},\n",
    "                     {\"match\": {\"birthdate\":\"19870505\"}} ] } } }\n",
    "                     {\"term\": {\"sexo_a\":\"1\"}} ] } } }'\n",
    "    Requirements: \n",
    "    - All values on vars_col must be converted into string\n",
    "    - All the hyphens symbols must be taken from date type used to search (e.g. 1987-05-05 must be converted to 19870505)\n",
    "    - The config json must be available as a broadcast through sc.broadcast() function.\n",
    "    - The names of indexed columns must be correctly filled. \n",
    "    \"\"\"\n",
    "    config_ = config_bc.value\n",
    "    query_size = config_['query_size']\n",
    "    \n",
    "    tolink_cols_dict = get_match_cols_and_values(vars_col, 'exact', False)\n",
    "    \n",
    "    # -------------------------------------------- #\n",
    "    #   starting the building of query string      #\n",
    "    # -------------------------------------------- #\n",
    "    \n",
    "    # filling the query core with all indexed columns and values from vars_col\n",
    "    comparisons = [config['comparisons'][x] for x in config['comparisons']]\n",
    "    strings = []\n",
    "    for col in list(tolink_cols_dict.keys()):\n",
    "        query_col_instructions = [x for x in comparisons if x['indexed_col'] == col][0]\n",
    "        print(col)\n",
    "        query_type = str(query_col_instructions['query_type'])\n",
    "        prefix_ = \"\"\"{\"%s\": {\"\"\" % query_type\n",
    "        suffix_ = \"\"\"}}\"\"\"\n",
    "\n",
    "        if query_col_instructions['should_match'] == 'true':\n",
    "            if query_col_instructions['is_fuzzy'] == 'true':\n",
    "                \n",
    "                boost = str(query_col_instructions['boost'])\n",
    "                string = str(prefix_) + \"\\\"\" + str(col) + \"\\\"\" + \":\" + \"\\\"\" +  str(tolink_cols_dict[col]) + \"\\\"\" + \", \\\"fuzziness\\\":\\\"AUTO\\\", \\\"operator\\\":\\\"or\\\", \\\"boost\\\":\\\"\" + boost + \"\\\"\" + str(suffix_)\n",
    "            if query_col_instructions['is_fuzzy'] == 'false':\n",
    "                string = str(prefix_) + \"\\\"\" + str(col) + \"\\\"\" + \":\" + \"\\\"\" +  str(tolink_cols_dict[col]) + \"\\\"\" + str(suffix_)\n",
    "        strings.append(string)\n",
    "    \n",
    "    # building the query core. \n",
    "    # is_fuzzy = 'true' should be like: {\"match\": {\"name\":\"ROBESPIERRE PITA\", \"fuzziness\":\"AUTO\", \"operator\":\"or\", \"boost\":\"3.0\"}}, {\"term\": {\"dt_nasc_a\":\"20070816\"}}\n",
    "    line = ','.join(strings)\n",
    "    \n",
    "    # Finally the final query string\n",
    "    complete_query = \"\"\"{ \"size\": \"%s\", \"query\": { \"bool\": { \"should\": [ %s ] } } }\"\"\" % (query_size,line)\n",
    "    \n",
    "    return complete_query\n",
    "udf_build_exact_queries = F.udf(build_exact_queries, StringType())"
   ]
  },
  {
   "cell_type": "markdown",
   "metadata": {},
   "source": [
    "#### finding matches"
   ]
  },
  {
   "cell_type": "code",
   "execution_count": 7,
   "metadata": {
    "jupyter": {
     "source_hidden": true
    }
   },
   "outputs": [],
   "source": [
    "def find_elasticsearch_exact_best_candidate(vars_col, exact_queries_col):\n",
    "    \"\"\"\n",
    "    Let us suppose a column with the following query:\n",
    "    \n",
    "    '{ \"size\": \"50\", \"query\": \n",
    "                    { \"bool\": { \"must\": [ \n",
    "                                {\"match\": {\"name\":\"ROBESPIERRE PITA\"}},\n",
    "                                {\"match\": {\"birthdate\":\"19870505\"}}] } } }'\n",
    "    \n",
    "    so, this function must return a dict with N results like: \n",
    "        {'_index': 'test', '_type': '_doc', '_id': 'aaabbbccc', '_score': 43.9280841,\n",
    "        '_source': {'name': 'ROBESPIERRE PITA', 'birthdate': '19870505', 'other_col': 'other_value'}},\n",
    "    \n",
    "    being N the query_size value set on config, you can see this number on the 'size' field of the query.\n",
    "    \n",
    "    This result can now be used to compute the proper similarity and pick the \n",
    "    best candidate for each record\n",
    "    \"\"\"\n",
    "    from elasticsearch import Elasticsearch\n",
    "    config_ = config_bc.value\n",
    "    \n",
    "    es_connect_string = config_['es_connect_string']\n",
    "    es_index_name = config_['es_index_name']\n",
    "    \n",
    "    es = Elasticsearch(es_connect_string)\n",
    "    \n",
    "    candidates = es.search(index=es_index_name, body=exact_queries_col)['hits']['hits']\n",
    "    \n",
    "    if len(candidates) == 0:\n",
    "        best_score_id, best_score_value, scores = 'null', 'null', 'null'\n",
    "        return T.Row('best_candidate_exact', 'sim_best_candidate_exact', 'similarity_exact_candidates')(best_score_id, best_score_value, scores)\n",
    "    else:\n",
    "        cols_and_values = get_match_cols_and_values(vars_col, 'general', True)\n",
    "        best_score_id, best_score_value, scores = find_best_candidates(cols_and_values, candidates)\n",
    "\n",
    "        if float(best_score_value) >= float(config_['cutoff_exact_match']):\n",
    "            return T.Row('best_candidate_exact', 'sim_best_candidate_exact', 'similarity_exact_candidates')(best_score_id, best_score_value, scores)\n",
    "        else: \n",
    "            best_score_id, best_score_value, scores = 'null', 'null', 'null'\n",
    "            return T.Row('best_candidate_exact', 'sim_best_candidate_exact', 'similarity_exact_candidates')(best_score_id, best_score_value, scores)\n",
    "\n",
    "schema = StructType([StructField(\"best_candidate_exact\", StringType(), False), \n",
    "                     StructField(\"sim_best_candidate_exact\", StringType(), False), \n",
    "                     StructField(\"similarity_exact_candidates\", StringType(), False)])\n",
    "\n",
    "udf_find_elasticsearch_exact_best_candidate = F.udf(find_elasticsearch_exact_best_candidate, schema)\n",
    "\n",
    "\n",
    "def find_best_candidates(cols_and_values, candidates):\n",
    "    \n",
    "    config_ = config_bc.value\n",
    "    indexed_id_col = config_['datasets_info']['indexed_dataset']['id_column_name']\n",
    "    id_value = cols_and_values[indexed_id_col]\n",
    "    scores = {}\n",
    "    \n",
    "    for candidate in candidates:\n",
    "        candidate_id = candidate['_source'][indexed_id_col]\n",
    "        sim_candidate = []\n",
    "\n",
    "        for col_and_value in list(cols_and_values.keys()):\n",
    "            if col_and_value != indexed_id_col:\n",
    "                comparison_info = [config_['comparisons'][x] for x in config_['comparisons'] if config_['comparisons'][x]['indexed_col'] == col_and_value][0]\n",
    "                n_comparisons = len(config_['comparisons'].keys())\n",
    "\n",
    "                sim_for_pair_of_cols = similarity_hub(n_comparisons, comparison_info, cols_and_values[col_and_value], candidate['_source'][col_and_value])\n",
    "\n",
    "                sim_candidate.append(sim_for_pair_of_cols)\n",
    "\n",
    "        score_max = sum([float(config_['comparisons'][x]['weight']) for x in config_['comparisons']])\n",
    "        score = (sum(sim_candidate))/score_max\n",
    "    \n",
    "        scores[candidate_id] = score\n",
    "    \n",
    "#     # taking those records with the same 'id'\n",
    "#     scores.pop(str(id_value), None)\n",
    "    \n",
    "    # finding the best score and id\n",
    "    if len(scores) > 0:\n",
    "        best_score_id = max(scores, key=scores.get)\n",
    "        best_score_value = scores[best_score_id]\n",
    "    else: \n",
    "        best_score_id = 'null'\n",
    "        best_score_value = '0.0'\n",
    "        scores = '{}'\n",
    "    return best_score_id, best_score_value, scores\n",
    "    \n",
    "    \n",
    "def similarity_hub(n_comparisons, comparison_info, col_and_value, candidate):\n",
    "    \"\"\"\n",
    "    Currently the CIDACS-RL uses overlap for categorical data, jaro_winkler for names and hamming for dates.\n",
    "    \"\"\"\n",
    "    import jellyfish\n",
    "    \n",
    "    # getting relevant information for this pair of values\n",
    "    config_ = config_bc.value\n",
    "#     score_max = sum([float(config_['comparisons'][x]['weight']) for x in config_['comparisons']])\n",
    "    similarity = 0.0\n",
    "    weight = float(comparison_info['weight'])\n",
    "    penalty = float(comparison_info['penalty'])\n",
    "    \n",
    "    # first, test if some value are missing\n",
    "    if (candidate == config_['null_value']) or (col_and_value == config_['null_value'])\\\n",
    "        or (candidate == \"\") or (col_and_value == \"\") or (candidate == None) or (col_and_value == None):\n",
    "        similarity = similarity - penalty\n",
    "    else: \n",
    "        sim_type = comparison_info['similarity']\n",
    "        if (sim_type == 'overlap') and(col_and_value == candidate):\n",
    "            similarity += (1.0) * weight\n",
    "            return similarity\n",
    "        elif sim_type == 'jaro_winkler':\n",
    "            similarity += jellyfish.jaro_winkler(col_and_value, candidate) * weight\n",
    "        elif sim_type == 'hamming':\n",
    "            max_size = max(len(col_and_value), len(candidate))\n",
    "            similarity += 1.0 - float(jellyfish.hamming_distance(col_and_value, candidate)/max_size) * weight\n",
    "        else: \n",
    "            print('Please inform valid similarities for cidacs-rl')\n",
    "        \n",
    "        similarity = similarity\n",
    "    return similarity    "
   ]
  },
  {
   "cell_type": "markdown",
   "metadata": {},
   "source": [
    "#### main functions"
   ]
  },
  {
   "cell_type": "code",
   "execution_count": null,
   "metadata": {},
   "outputs": [],
   "source": [
    "def cidacsrl_exact_match():"
   ]
  },
  {
   "cell_type": "markdown",
   "metadata": {},
   "source": [
    "# Reading prepocessed datasets"
   ]
  },
  {
   "cell_type": "code",
   "execution_count": 8,
   "metadata": {},
   "outputs": [],
   "source": [
    "# getting the auxiliary variables\n",
    "data_ext = config['datasets_info']['indexed_dataset']['extension']\n",
    "data_path = config['datasets_info']['indexed_dataset']['path']\n",
    "\n",
    "# test the extension of the dataset to properly read it\n",
    "if data_ext == 'csv':\n",
    "    indexed_dataset = spark.read.csv(data_path, header=True)\n",
    "elif data_ext == 'parquet':\n",
    "    indexed_dataset = spark.read.parquet(data_path)\n",
    "else:\n",
    "    print(\"Please make sure the extension for this dataset is set as 'csv' or 'parquet'\")\n",
    "    \n",
    "# All the hyphens symbols must be taken from date type variables converted to string\n",
    "indexed_dataset = indexed_dataset.withColumn('dt_nasc_a', F.regexp_replace(F.col('dt_nasc_a'), \"-\", \"\"))"
   ]
  },
  {
   "cell_type": "code",
   "execution_count": 9,
   "metadata": {},
   "outputs": [
    {
     "data": {
      "text/html": [
       "<div>\n",
       "<style scoped>\n",
       "    .dataframe tbody tr th:only-of-type {\n",
       "        vertical-align: middle;\n",
       "    }\n",
       "\n",
       "    .dataframe tbody tr th {\n",
       "        vertical-align: top;\n",
       "    }\n",
       "\n",
       "    .dataframe thead th {\n",
       "        text-align: right;\n",
       "    }\n",
       "</style>\n",
       "<table border=\"1\" class=\"dataframe\">\n",
       "  <thead>\n",
       "    <tr style=\"text-align: right;\">\n",
       "      <th></th>\n",
       "      <th>id_cidacs_a</th>\n",
       "      <th>nome_a</th>\n",
       "      <th>nome_mae_a</th>\n",
       "      <th>dt_nasc_a</th>\n",
       "      <th>sexo_a</th>\n",
       "    </tr>\n",
       "  </thead>\n",
       "  <tbody>\n",
       "    <tr>\n",
       "      <th>0</th>\n",
       "      <td>1</td>\n",
       "      <td>YASMIM VITORIA MATIAS FONSECA</td>\n",
       "      <td>TACIANY DOS SANTOS</td>\n",
       "      <td>20071122</td>\n",
       "      <td>2</td>\n",
       "    </tr>\n",
       "    <tr>\n",
       "      <th>1</th>\n",
       "      <td>2</td>\n",
       "      <td>PEDRO HENRIQUE MARTINS DE CARVALHO</td>\n",
       "      <td>FRANCILEIDE DOS SANTOS ALVES</td>\n",
       "      <td>20061102</td>\n",
       "      <td>1</td>\n",
       "    </tr>\n",
       "    <tr>\n",
       "      <th>2</th>\n",
       "      <td>3</td>\n",
       "      <td>FABRICIO RODRIGUES DOS SANTOS</td>\n",
       "      <td>MARCELA MACHADO DA SILVA</td>\n",
       "      <td>20071107</td>\n",
       "      <td>1</td>\n",
       "    </tr>\n",
       "  </tbody>\n",
       "</table>\n",
       "</div>"
      ],
      "text/plain": [
       "  id_cidacs_a                              nome_a  \\\n",
       "0           1       YASMIM VITORIA MATIAS FONSECA   \n",
       "1           2  PEDRO HENRIQUE MARTINS DE CARVALHO   \n",
       "2           3       FABRICIO RODRIGUES DOS SANTOS   \n",
       "\n",
       "                     nome_mae_a dt_nasc_a  sexo_a  \n",
       "0            TACIANY DOS SANTOS  20071122       2  \n",
       "1  FRANCILEIDE DOS SANTOS ALVES  20061102       1  \n",
       "2      MARCELA MACHADO DA SILVA  20071107       1  "
      ]
     },
     "execution_count": 9,
     "metadata": {},
     "output_type": "execute_result"
    }
   ],
   "source": [
    "indexed_dataset.limit(3).toPandas()"
   ]
  },
  {
   "cell_type": "code",
   "execution_count": 10,
   "metadata": {},
   "outputs": [],
   "source": [
    "# getting the auxiliary variables\n",
    "data_ext = config['datasets_info']['tolink_dataset']['extension']\n",
    "data_path = config['datasets_info']['tolink_dataset']['path']\n",
    "\n",
    "# test the extension of the dataset to properly read it\n",
    "if data_ext == 'csv':\n",
    "    tolink_dataset = spark.read.csv(data_path, header=True)\n",
    "elif data_ext == 'parquet':\n",
    "    tolink_dataset = spark.read.parquet(data_path)\n",
    "else:\n",
    "    print(\"Please make sure the extension for this dataset is set as 'csv' or 'parquet'\")"
   ]
  },
  {
   "cell_type": "markdown",
   "metadata": {},
   "source": [
    "#### preprocessing tolink dataset"
   ]
  },
  {
   "cell_type": "code",
   "execution_count": 11,
   "metadata": {},
   "outputs": [],
   "source": [
    "for col in tolink_dataset.columns:\n",
    "    tolink_dataset = tolink_dataset.withColumn(col, F.col(col).cast('string'))\n",
    "\n",
    "tolink_dataset = tolink_dataset.na.fill(config['null_value'])\n",
    "\n",
    "# All the hyphens symbols must be taken from date type variables converted to string\n",
    "tolink_dataset = tolink_dataset.withColumn('dt_nasc_b', F.regexp_replace(F.col('dt_nasc_b'), \"-\", \"\"))"
   ]
  },
  {
   "cell_type": "code",
   "execution_count": 12,
   "metadata": {},
   "outputs": [
    {
     "data": {
      "text/html": [
       "<div>\n",
       "<style scoped>\n",
       "    .dataframe tbody tr th:only-of-type {\n",
       "        vertical-align: middle;\n",
       "    }\n",
       "\n",
       "    .dataframe tbody tr th {\n",
       "        vertical-align: top;\n",
       "    }\n",
       "\n",
       "    .dataframe thead th {\n",
       "        text-align: right;\n",
       "    }\n",
       "</style>\n",
       "<table border=\"1\" class=\"dataframe\">\n",
       "  <thead>\n",
       "    <tr style=\"text-align: right;\">\n",
       "      <th></th>\n",
       "      <th>id_cidacs_b</th>\n",
       "      <th>nome_b</th>\n",
       "      <th>nome_mae_b</th>\n",
       "      <th>dt_nasc_b</th>\n",
       "      <th>sexo_b</th>\n",
       "    </tr>\n",
       "  </thead>\n",
       "  <tbody>\n",
       "    <tr>\n",
       "      <th>0</th>\n",
       "      <td>1081</td>\n",
       "      <td>FABIOLA FAGUNDES FRICKS</td>\n",
       "      <td>LUCIMARA COSTA NASCIMENTO</td>\n",
       "      <td>20070816</td>\n",
       "      <td>2</td>\n",
       "    </tr>\n",
       "    <tr>\n",
       "      <th>1</th>\n",
       "      <td>4582</td>\n",
       "      <td>ANA KAROLINA RODRIGUES SOUSA</td>\n",
       "      <td>CELINE RAIMUNDA SILVA</td>\n",
       "      <td>20090614</td>\n",
       "      <td>2</td>\n",
       "    </tr>\n",
       "    <tr>\n",
       "      <th>2</th>\n",
       "      <td>4739</td>\n",
       "      <td>NATALIA DAVID BENTO</td>\n",
       "      <td>KETLEN SANTOS</td>\n",
       "      <td>20091222</td>\n",
       "      <td>2</td>\n",
       "    </tr>\n",
       "  </tbody>\n",
       "</table>\n",
       "</div>"
      ],
      "text/plain": [
       "  id_cidacs_b                        nome_b                 nome_mae_b  \\\n",
       "0        1081       FABIOLA FAGUNDES FRICKS  LUCIMARA COSTA NASCIMENTO   \n",
       "1        4582  ANA KAROLINA RODRIGUES SOUSA      CELINE RAIMUNDA SILVA   \n",
       "2        4739           NATALIA DAVID BENTO              KETLEN SANTOS   \n",
       "\n",
       "  dt_nasc_b sexo_b  \n",
       "0  20070816      2  \n",
       "1  20090614      2  \n",
       "2  20091222      2  "
      ]
     },
     "execution_count": 12,
     "metadata": {},
     "output_type": "execute_result"
    }
   ],
   "source": [
    "tolink_dataset.limit(3).toPandas()"
   ]
  },
  {
   "cell_type": "markdown",
   "metadata": {},
   "source": [
    "# Indexing dataset"
   ]
  },
  {
   "cell_type": "code",
   "execution_count": 13,
   "metadata": {},
   "outputs": [],
   "source": [
    "# # make sure all the cols in data are StringType()\n",
    "\n",
    "# for col in indexed_dataset.columns:\n",
    "#     indexed_dataset = indexed_dataset.withColumn(col, F.col(col).cast('string'))\n",
    "\n",
    "# indexed_dataset = indexed_dataset.na.fill(config['null_value'])\n",
    "    \n",
    "# # All the hyphens symbols must be taken from date type variables converted to string\n",
    "# indexed_dataset = indexed_dataset.withColumn('dt_nasc_a', F.regexp_replace(F.col('dt_nasc_a'), \"-\", \"\"))\n",
    "\n",
    "# # indexing, at last\n",
    "# index_df_response = config['index_data']\n",
    "# index_name = config['es_index_name']\n",
    "# if index_df_response == 'yes':\n",
    "#     index_dataframe(indexed_dataset, index_name)"
   ]
  },
  {
   "cell_type": "code",
   "execution_count": 14,
   "metadata": {},
   "outputs": [],
   "source": [
    "# index_name = config['es_index_name']\n",
    "# es = Elasticsearch('http://localhost:9200')\n",
    "# content = {\n",
    "#     'size': 1,\n",
    "#     'query': {\n",
    "#         'bool': {\n",
    "#             'must': [\n",
    "#                 {'match': {'dt_nasc_a': '20070816'}}\n",
    "#             ]\n",
    "#         }\n",
    "#     }\n",
    "# }\n",
    "# candidates = es.search(index=index_name, body=content)['hits']['hits']\n",
    "# candidates"
   ]
  },
  {
   "cell_type": "markdown",
   "metadata": {},
   "source": [
    "# Linking datasets"
   ]
  },
  {
   "cell_type": "markdown",
   "metadata": {},
   "source": [
    "#### auxiliary variables"
   ]
  },
  {
   "cell_type": "code",
   "execution_count": 15,
   "metadata": {},
   "outputs": [],
   "source": [
    "config_ = config_bc.value\n",
    "query_size = config_['query_size']"
   ]
  },
  {
   "cell_type": "markdown",
   "metadata": {},
   "source": [
    "#### creating vars column"
   ]
  },
  {
   "cell_type": "code",
   "execution_count": 16,
   "metadata": {},
   "outputs": [
    {
     "data": {
      "text/html": [
       "<div>\n",
       "<style scoped>\n",
       "    .dataframe tbody tr th:only-of-type {\n",
       "        vertical-align: middle;\n",
       "    }\n",
       "\n",
       "    .dataframe tbody tr th {\n",
       "        vertical-align: top;\n",
       "    }\n",
       "\n",
       "    .dataframe thead th {\n",
       "        text-align: right;\n",
       "    }\n",
       "</style>\n",
       "<table border=\"1\" class=\"dataframe\">\n",
       "  <thead>\n",
       "    <tr style=\"text-align: right;\">\n",
       "      <th></th>\n",
       "      <th>id_cidacs_b</th>\n",
       "      <th>nome_b</th>\n",
       "      <th>nome_mae_b</th>\n",
       "      <th>dt_nasc_b</th>\n",
       "      <th>sexo_b</th>\n",
       "      <th>vars</th>\n",
       "    </tr>\n",
       "  </thead>\n",
       "  <tbody>\n",
       "    <tr>\n",
       "      <th>0</th>\n",
       "      <td>1081</td>\n",
       "      <td>FABIOLA FAGUNDES FRICKS</td>\n",
       "      <td>LUCIMARA COSTA NASCIMENTO</td>\n",
       "      <td>20070816</td>\n",
       "      <td>2</td>\n",
       "      <td>[1081, FABIOLA FAGUNDES FRICKS, LUCIMARA COSTA...</td>\n",
       "    </tr>\n",
       "    <tr>\n",
       "      <th>1</th>\n",
       "      <td>4582</td>\n",
       "      <td>ANA KAROLINA RODRIGUES SOUSA</td>\n",
       "      <td>CELINE RAIMUNDA SILVA</td>\n",
       "      <td>20090614</td>\n",
       "      <td>2</td>\n",
       "      <td>[4582, ANA KAROLINA RODRIGUES SOUSA, CELINE RA...</td>\n",
       "    </tr>\n",
       "  </tbody>\n",
       "</table>\n",
       "</div>"
      ],
      "text/plain": [
       "  id_cidacs_b                        nome_b                 nome_mae_b  \\\n",
       "0        1081       FABIOLA FAGUNDES FRICKS  LUCIMARA COSTA NASCIMENTO   \n",
       "1        4582  ANA KAROLINA RODRIGUES SOUSA      CELINE RAIMUNDA SILVA   \n",
       "\n",
       "  dt_nasc_b sexo_b                                               vars  \n",
       "0  20070816      2  [1081, FABIOLA FAGUNDES FRICKS, LUCIMARA COSTA...  \n",
       "1  20090614      2  [4582, ANA KAROLINA RODRIGUES SOUSA, CELINE RA...  "
      ]
     },
     "execution_count": 16,
     "metadata": {},
     "output_type": "execute_result"
    }
   ],
   "source": [
    "tolink_id_column = config_['datasets_info']['tolink_dataset']['id_column_name']\n",
    "tolink_cols = config_['datasets_info']['tolink_dataset']['columns']\n",
    "# tolink_cols = [x for x in tolink_cols if x != tolink_id_column]\n",
    "\n",
    "tolink_dataset = tolink_dataset.withColumn('vars', F.array(tolink_cols))\n",
    "tolink_dataset.limit(2).toPandas()"
   ]
  },
  {
   "cell_type": "code",
   "execution_count": 17,
   "metadata": {},
   "outputs": [
    {
     "name": "stdout",
     "output_type": "stream",
     "text": [
      "+--------------------------------------------------------------------------------------+\n",
      "|vars                                                                                  |\n",
      "+--------------------------------------------------------------------------------------+\n",
      "|[1081, FABIOLA FAGUNDES FRICKS, LUCIMARA COSTA NASCIMENTO, 20070816, 2]               |\n",
      "|[4582, ANA KAROLINA RODRIGUES SOUSA, CELINE RAIMUNDA SILVA, 20090614, 2]              |\n",
      "|[4739, NATALIA DAVID BENTO, KETLEN SANTOS, 20091222, 2]                               |\n",
      "|[5635, FILHO CARLEIDE NASCIMENTO DA SILVA, LUCIMARA RABELO ALCANTARA, 20100408, 1]    |\n",
      "|[6614, KAYLANE VITORIA SANTOS FREITAS, FLAVIANA DOS SANTOS, 20100220, 2]              |\n",
      "|[8684, GABRIELA BARROZO JAKCES, LUCIANA MARIA RODRIGUES DA COSTA, 20101207, 2]        |\n",
      "|[12206, JOAO VICTOR MARINHO MOREIRA, ELISANGELA OLIVEIRA, 20090206, 1]                |\n",
      "|[18352, LUAN GUILHERME  DOS SANTOS SILVA, FERNANDA DA SILVA RUIZ, 20110606, 1]        |\n",
      "|[21426, ANNA BEATRIZ FARIAS DA SILVA, KEILA DE SOUZA SANTOS, 20080702, 2]             |\n",
      "|[23067, ITAUANE KAMILA ALCANTARA DOS SANTOS, LENILDA ALVES CELESTINO, 20090718, 2]    |\n",
      "|[25130, WELINGTON SILVA SANTOS, KELEN PATRICIA MIGUEL LIMA, 20090909, 1]              |\n",
      "|[25542, EZIDA EDUARDA SANTOS DE OLIVEIRA, JACOSTA MUNIZ SANTOS, 20100521, 2]          |\n",
      "|[28329, RUBENS FABIANO DA SILVA RODRIGUES, CARMEM CARDOSO, 20110401, 1]               |\n",
      "|[28619, MARIA LUIZA SANTOS CAVALCANTE, LARISSA CARDOSO DA SILVA, 20101015, 2]         |\n",
      "|[29282, PAULO VINICIUS RIBEIRO ASSUNCAO, MARIA APARECIDA R DE PAULA, 20110106, 1]     |\n",
      "|[29447, RONI FERNANDES, NOLENAN FONSECA MENDES, 20100830, 1]                          |\n",
      "|[30599, JOSE JONATA MATOS DE SANTANA LIMA, ROSILENE B DOS SANTOS CORREIA, 20080511, 1]|\n",
      "|[30673, RAFAELA LOPES CARDOSO, MARIA JOSE DE LIMA, 20070817, 2]                       |\n",
      "|[31586, YANDRA ELLEN OLIVEIRA G A DA CONCEI, RAIMUNDA SOUZA LOBATO, 20080209, 2]      |\n",
      "|[34356, MICAEL DOS SANTOS MOTTA, MARIA B DA CONCEICAO, 20090525, 1]                   |\n",
      "+--------------------------------------------------------------------------------------+\n",
      "only showing top 20 rows\n",
      "\n"
     ]
    }
   ],
   "source": [
    "tolink_dataset.select('vars').show(truncate=False)"
   ]
  },
  {
   "cell_type": "markdown",
   "metadata": {},
   "source": [
    "#### creating exact_queries column"
   ]
  },
  {
   "cell_type": "code",
   "execution_count": 18,
   "metadata": {},
   "outputs": [
    {
     "data": {
      "text/html": [
       "<div>\n",
       "<style scoped>\n",
       "    .dataframe tbody tr th:only-of-type {\n",
       "        vertical-align: middle;\n",
       "    }\n",
       "\n",
       "    .dataframe tbody tr th {\n",
       "        vertical-align: top;\n",
       "    }\n",
       "\n",
       "    .dataframe thead th {\n",
       "        text-align: right;\n",
       "    }\n",
       "</style>\n",
       "<table border=\"1\" class=\"dataframe\">\n",
       "  <thead>\n",
       "    <tr style=\"text-align: right;\">\n",
       "      <th></th>\n",
       "      <th>id_cidacs_b</th>\n",
       "      <th>nome_b</th>\n",
       "      <th>nome_mae_b</th>\n",
       "      <th>dt_nasc_b</th>\n",
       "      <th>sexo_b</th>\n",
       "      <th>vars</th>\n",
       "      <th>exact_queries</th>\n",
       "    </tr>\n",
       "  </thead>\n",
       "  <tbody>\n",
       "    <tr>\n",
       "      <th>0</th>\n",
       "      <td>1081</td>\n",
       "      <td>FABIOLA FAGUNDES FRICKS</td>\n",
       "      <td>LUCIMARA COSTA NASCIMENTO</td>\n",
       "      <td>20070816</td>\n",
       "      <td>2</td>\n",
       "      <td>[1081, FABIOLA FAGUNDES FRICKS, LUCIMARA COSTA...</td>\n",
       "      <td>{ \"size\": \"50\", \"query\": { \"bool\": { \"must\": [...</td>\n",
       "    </tr>\n",
       "    <tr>\n",
       "      <th>1</th>\n",
       "      <td>4582</td>\n",
       "      <td>ANA KAROLINA RODRIGUES SOUSA</td>\n",
       "      <td>CELINE RAIMUNDA SILVA</td>\n",
       "      <td>20090614</td>\n",
       "      <td>2</td>\n",
       "      <td>[4582, ANA KAROLINA RODRIGUES SOUSA, CELINE RA...</td>\n",
       "      <td>{ \"size\": \"50\", \"query\": { \"bool\": { \"must\": [...</td>\n",
       "    </tr>\n",
       "    <tr>\n",
       "      <th>2</th>\n",
       "      <td>4739</td>\n",
       "      <td>NATALIA DAVID BENTO</td>\n",
       "      <td>KETLEN SANTOS</td>\n",
       "      <td>20091222</td>\n",
       "      <td>2</td>\n",
       "      <td>[4739, NATALIA DAVID BENTO, KETLEN SANTOS, 200...</td>\n",
       "      <td>{ \"size\": \"50\", \"query\": { \"bool\": { \"must\": [...</td>\n",
       "    </tr>\n",
       "  </tbody>\n",
       "</table>\n",
       "</div>"
      ],
      "text/plain": [
       "  id_cidacs_b                        nome_b                 nome_mae_b  \\\n",
       "0        1081       FABIOLA FAGUNDES FRICKS  LUCIMARA COSTA NASCIMENTO   \n",
       "1        4582  ANA KAROLINA RODRIGUES SOUSA      CELINE RAIMUNDA SILVA   \n",
       "2        4739           NATALIA DAVID BENTO              KETLEN SANTOS   \n",
       "\n",
       "  dt_nasc_b sexo_b                                               vars  \\\n",
       "0  20070816      2  [1081, FABIOLA FAGUNDES FRICKS, LUCIMARA COSTA...   \n",
       "1  20090614      2  [4582, ANA KAROLINA RODRIGUES SOUSA, CELINE RA...   \n",
       "2  20091222      2  [4739, NATALIA DAVID BENTO, KETLEN SANTOS, 200...   \n",
       "\n",
       "                                       exact_queries  \n",
       "0  { \"size\": \"50\", \"query\": { \"bool\": { \"must\": [...  \n",
       "1  { \"size\": \"50\", \"query\": { \"bool\": { \"must\": [...  \n",
       "2  { \"size\": \"50\", \"query\": { \"bool\": { \"must\": [...  "
      ]
     },
     "execution_count": 18,
     "metadata": {},
     "output_type": "execute_result"
    }
   ],
   "source": [
    "tolink_dataset = tolink_dataset.withColumn('exact_queries', udf_build_exact_queries(F.col('vars')))\n",
    "tolink_dataset.limit(3).toPandas()"
   ]
  },
  {
   "cell_type": "code",
   "execution_count": 19,
   "metadata": {},
   "outputs": [
    {
     "name": "stdout",
     "output_type": "stream",
     "text": [
      "+---------------------------------------------------------------------------------------------------------------------------------------------------------------------------------------+\n",
      "|exact_queries                                                                                                                                                                          |\n",
      "+---------------------------------------------------------------------------------------------------------------------------------------------------------------------------------------+\n",
      "|{ \"size\": \"50\", \"query\": { \"bool\": { \"must\": [ {\"match\": {\"nome_a\":\"FABIOLA FAGUNDES FRICKS\"}},{\"match\": {\"nome_mae_a\":\"LUCIMARA COSTA NASCIMENTO\"}},{\"match\": {\"sexo_a\":\"2\"}} ] } } } |\n",
      "|{ \"size\": \"50\", \"query\": { \"bool\": { \"must\": [ {\"match\": {\"nome_a\":\"ANA KAROLINA RODRIGUES SOUSA\"}},{\"match\": {\"nome_mae_a\":\"CELINE RAIMUNDA SILVA\"}},{\"match\": {\"sexo_a\":\"2\"}} ] } } }|\n",
      "+---------------------------------------------------------------------------------------------------------------------------------------------------------------------------------------+\n",
      "only showing top 2 rows\n",
      "\n"
     ]
    }
   ],
   "source": [
    "tolink_dataset.select('exact_queries').show(2, truncate=False)"
   ]
  },
  {
   "cell_type": "markdown",
   "metadata": {},
   "source": [
    "<hr />"
   ]
  },
  {
   "cell_type": "markdown",
   "metadata": {},
   "source": [
    "#### finding the best candidate and similarity"
   ]
  },
  {
   "cell_type": "code",
   "execution_count": 20,
   "metadata": {},
   "outputs": [],
   "source": [
    "temp_dir = config['temp_dir']"
   ]
  },
  {
   "cell_type": "code",
   "execution_count": 21,
   "metadata": {},
   "outputs": [
    {
     "data": {
      "text/html": [
       "<div>\n",
       "<style scoped>\n",
       "    .dataframe tbody tr th:only-of-type {\n",
       "        vertical-align: middle;\n",
       "    }\n",
       "\n",
       "    .dataframe tbody tr th {\n",
       "        vertical-align: top;\n",
       "    }\n",
       "\n",
       "    .dataframe thead th {\n",
       "        text-align: right;\n",
       "    }\n",
       "</style>\n",
       "<table border=\"1\" class=\"dataframe\">\n",
       "  <thead>\n",
       "    <tr style=\"text-align: right;\">\n",
       "      <th></th>\n",
       "      <th>id_cidacs_b</th>\n",
       "      <th>nome_b</th>\n",
       "      <th>nome_mae_b</th>\n",
       "      <th>dt_nasc_b</th>\n",
       "      <th>sexo_b</th>\n",
       "      <th>vars</th>\n",
       "      <th>exact_queries</th>\n",
       "      <th>result_exact_search</th>\n",
       "    </tr>\n",
       "  </thead>\n",
       "  <tbody>\n",
       "    <tr>\n",
       "      <th>0</th>\n",
       "      <td>1081</td>\n",
       "      <td>FABIOLA FAGUNDES FRICKS</td>\n",
       "      <td>LUCIMARA COSTA NASCIMENTO</td>\n",
       "      <td>20070816</td>\n",
       "      <td>2</td>\n",
       "      <td>[1081, FABIOLA FAGUNDES FRICKS, LUCIMARA COSTA...</td>\n",
       "      <td>{ \"size\": \"50\", \"query\": { \"bool\": { \"must\": [...</td>\n",
       "      <td>(1081, 1.0, {842866=0.6605594419000216, 436317...</td>\n",
       "    </tr>\n",
       "  </tbody>\n",
       "</table>\n",
       "</div>"
      ],
      "text/plain": [
       "  id_cidacs_b                   nome_b                 nome_mae_b dt_nasc_b  \\\n",
       "0        1081  FABIOLA FAGUNDES FRICKS  LUCIMARA COSTA NASCIMENTO  20070816   \n",
       "\n",
       "  sexo_b                                               vars  \\\n",
       "0      2  [1081, FABIOLA FAGUNDES FRICKS, LUCIMARA COSTA...   \n",
       "\n",
       "                                       exact_queries  \\\n",
       "0  { \"size\": \"50\", \"query\": { \"bool\": { \"must\": [...   \n",
       "\n",
       "                                 result_exact_search  \n",
       "0  (1081, 1.0, {842866=0.6605594419000216, 436317...  "
      ]
     },
     "execution_count": 21,
     "metadata": {},
     "output_type": "execute_result"
    }
   ],
   "source": [
    "tolink_dataset = tolink_dataset.withColumn('result_exact_search', F.explode(F.array(udf_find_elasticsearch_exact_best_candidate(F.col('vars'), F.col('exact_queries')))))\n",
    "# writing temporary data from this point helps to reset the DAG and improve performance\n",
    "tolink_dataset.write.parquet(temp_dir+'result_exact_search.parquet', mode='overwrite')\n",
    "tolink_dataset.limit(1).toPandas()"
   ]
  },
  {
   "cell_type": "code",
   "execution_count": 22,
   "metadata": {},
   "outputs": [
    {
     "data": {
      "text/html": [
       "<div>\n",
       "<style scoped>\n",
       "    .dataframe tbody tr th:only-of-type {\n",
       "        vertical-align: middle;\n",
       "    }\n",
       "\n",
       "    .dataframe tbody tr th {\n",
       "        vertical-align: top;\n",
       "    }\n",
       "\n",
       "    .dataframe thead th {\n",
       "        text-align: right;\n",
       "    }\n",
       "</style>\n",
       "<table border=\"1\" class=\"dataframe\">\n",
       "  <thead>\n",
       "    <tr style=\"text-align: right;\">\n",
       "      <th></th>\n",
       "      <th>id_cidacs_b</th>\n",
       "      <th>nome_b</th>\n",
       "      <th>nome_mae_b</th>\n",
       "      <th>dt_nasc_b</th>\n",
       "      <th>sexo_b</th>\n",
       "      <th>vars</th>\n",
       "      <th>exact_queries</th>\n",
       "      <th>result_exact_search</th>\n",
       "    </tr>\n",
       "  </thead>\n",
       "  <tbody>\n",
       "    <tr>\n",
       "      <th>0</th>\n",
       "      <td>1081</td>\n",
       "      <td>FABIOLA FAGUNDES FRICKS</td>\n",
       "      <td>LUCIMARA COSTA NASCIMENTO</td>\n",
       "      <td>20070816</td>\n",
       "      <td>2</td>\n",
       "      <td>[1081, FABIOLA FAGUNDES FRICKS, LUCIMARA COSTA...</td>\n",
       "      <td>{ \"size\": \"50\", \"query\": { \"bool\": { \"must\": [...</td>\n",
       "      <td>(1081, 1.0, {842866=0.6605594419000216, 436317...</td>\n",
       "    </tr>\n",
       "    <tr>\n",
       "      <th>1</th>\n",
       "      <td>4582</td>\n",
       "      <td>ANA KAROLINA RODRIGUES SOUSA</td>\n",
       "      <td>CELINE RAIMUNDA SILVA</td>\n",
       "      <td>20090614</td>\n",
       "      <td>2</td>\n",
       "      <td>[4582, ANA KAROLINA RODRIGUES SOUSA, CELINE RA...</td>\n",
       "      <td>{ \"size\": \"50\", \"query\": { \"bool\": { \"must\": [...</td>\n",
       "      <td>(4582, 1.0, {730432=0.867459862732972, 604618=...</td>\n",
       "    </tr>\n",
       "    <tr>\n",
       "      <th>2</th>\n",
       "      <td>4739</td>\n",
       "      <td>NATALIA DAVID BENTO</td>\n",
       "      <td>KETLEN SANTOS</td>\n",
       "      <td>20091222</td>\n",
       "      <td>2</td>\n",
       "      <td>[4739, NATALIA DAVID BENTO, KETLEN SANTOS, 200...</td>\n",
       "      <td>{ \"size\": \"50\", \"query\": { \"bool\": { \"must\": [...</td>\n",
       "      <td>(4739, 1.0, {544947=0.7007736649980847, 103694...</td>\n",
       "    </tr>\n",
       "  </tbody>\n",
       "</table>\n",
       "</div>"
      ],
      "text/plain": [
       "  id_cidacs_b                        nome_b                 nome_mae_b  \\\n",
       "0        1081       FABIOLA FAGUNDES FRICKS  LUCIMARA COSTA NASCIMENTO   \n",
       "1        4582  ANA KAROLINA RODRIGUES SOUSA      CELINE RAIMUNDA SILVA   \n",
       "2        4739           NATALIA DAVID BENTO              KETLEN SANTOS   \n",
       "\n",
       "  dt_nasc_b sexo_b                                               vars  \\\n",
       "0  20070816      2  [1081, FABIOLA FAGUNDES FRICKS, LUCIMARA COSTA...   \n",
       "1  20090614      2  [4582, ANA KAROLINA RODRIGUES SOUSA, CELINE RA...   \n",
       "2  20091222      2  [4739, NATALIA DAVID BENTO, KETLEN SANTOS, 200...   \n",
       "\n",
       "                                       exact_queries  \\\n",
       "0  { \"size\": \"50\", \"query\": { \"bool\": { \"must\": [...   \n",
       "1  { \"size\": \"50\", \"query\": { \"bool\": { \"must\": [...   \n",
       "2  { \"size\": \"50\", \"query\": { \"bool\": { \"must\": [...   \n",
       "\n",
       "                                 result_exact_search  \n",
       "0  (1081, 1.0, {842866=0.6605594419000216, 436317...  \n",
       "1  (4582, 1.0, {730432=0.867459862732972, 604618=...  \n",
       "2  (4739, 1.0, {544947=0.7007736649980847, 103694...  "
      ]
     },
     "execution_count": 22,
     "metadata": {},
     "output_type": "execute_result"
    }
   ],
   "source": [
    "tolink_dataset = spark.read.parquet(temp_dir+'result_exact_search.parquet')\n",
    "tolink_dataset.limit(3).toPandas()"
   ]
  },
  {
   "cell_type": "code",
   "execution_count": 23,
   "metadata": {},
   "outputs": [
    {
     "data": {
      "text/html": [
       "<div>\n",
       "<style scoped>\n",
       "    .dataframe tbody tr th:only-of-type {\n",
       "        vertical-align: middle;\n",
       "    }\n",
       "\n",
       "    .dataframe tbody tr th {\n",
       "        vertical-align: top;\n",
       "    }\n",
       "\n",
       "    .dataframe thead th {\n",
       "        text-align: right;\n",
       "    }\n",
       "</style>\n",
       "<table border=\"1\" class=\"dataframe\">\n",
       "  <thead>\n",
       "    <tr style=\"text-align: right;\">\n",
       "      <th></th>\n",
       "      <th>id_cidacs_b</th>\n",
       "      <th>nome_b</th>\n",
       "      <th>nome_mae_b</th>\n",
       "      <th>dt_nasc_b</th>\n",
       "      <th>sexo_b</th>\n",
       "      <th>vars</th>\n",
       "      <th>exact_queries</th>\n",
       "      <th>best_candidate_exact</th>\n",
       "      <th>sim_best_candidate_exact</th>\n",
       "      <th>similarity_exact_candidates</th>\n",
       "    </tr>\n",
       "  </thead>\n",
       "  <tbody>\n",
       "    <tr>\n",
       "      <th>0</th>\n",
       "      <td>1081</td>\n",
       "      <td>FABIOLA FAGUNDES FRICKS</td>\n",
       "      <td>LUCIMARA COSTA NASCIMENTO</td>\n",
       "      <td>20070816</td>\n",
       "      <td>2</td>\n",
       "      <td>[1081, FABIOLA FAGUNDES FRICKS, LUCIMARA COSTA...</td>\n",
       "      <td>{ \"size\": \"50\", \"query\": { \"bool\": { \"must\": [...</td>\n",
       "      <td>1081</td>\n",
       "      <td>1.0</td>\n",
       "      <td>1081</td>\n",
       "    </tr>\n",
       "    <tr>\n",
       "      <th>1</th>\n",
       "      <td>4582</td>\n",
       "      <td>ANA KAROLINA RODRIGUES SOUSA</td>\n",
       "      <td>CELINE RAIMUNDA SILVA</td>\n",
       "      <td>20090614</td>\n",
       "      <td>2</td>\n",
       "      <td>[4582, ANA KAROLINA RODRIGUES SOUSA, CELINE RA...</td>\n",
       "      <td>{ \"size\": \"50\", \"query\": { \"bool\": { \"must\": [...</td>\n",
       "      <td>4582</td>\n",
       "      <td>1.0</td>\n",
       "      <td>4582</td>\n",
       "    </tr>\n",
       "    <tr>\n",
       "      <th>2</th>\n",
       "      <td>4739</td>\n",
       "      <td>NATALIA DAVID BENTO</td>\n",
       "      <td>KETLEN SANTOS</td>\n",
       "      <td>20091222</td>\n",
       "      <td>2</td>\n",
       "      <td>[4739, NATALIA DAVID BENTO, KETLEN SANTOS, 200...</td>\n",
       "      <td>{ \"size\": \"50\", \"query\": { \"bool\": { \"must\": [...</td>\n",
       "      <td>4739</td>\n",
       "      <td>1.0</td>\n",
       "      <td>4739</td>\n",
       "    </tr>\n",
       "  </tbody>\n",
       "</table>\n",
       "</div>"
      ],
      "text/plain": [
       "  id_cidacs_b                        nome_b                 nome_mae_b  \\\n",
       "0        1081       FABIOLA FAGUNDES FRICKS  LUCIMARA COSTA NASCIMENTO   \n",
       "1        4582  ANA KAROLINA RODRIGUES SOUSA      CELINE RAIMUNDA SILVA   \n",
       "2        4739           NATALIA DAVID BENTO              KETLEN SANTOS   \n",
       "\n",
       "  dt_nasc_b sexo_b                                               vars  \\\n",
       "0  20070816      2  [1081, FABIOLA FAGUNDES FRICKS, LUCIMARA COSTA...   \n",
       "1  20090614      2  [4582, ANA KAROLINA RODRIGUES SOUSA, CELINE RA...   \n",
       "2  20091222      2  [4739, NATALIA DAVID BENTO, KETLEN SANTOS, 200...   \n",
       "\n",
       "                                       exact_queries best_candidate_exact  \\\n",
       "0  { \"size\": \"50\", \"query\": { \"bool\": { \"must\": [...                 1081   \n",
       "1  { \"size\": \"50\", \"query\": { \"bool\": { \"must\": [...                 4582   \n",
       "2  { \"size\": \"50\", \"query\": { \"bool\": { \"must\": [...                 4739   \n",
       "\n",
       "  sim_best_candidate_exact similarity_exact_candidates  \n",
       "0                      1.0                        1081  \n",
       "1                      1.0                        4582  \n",
       "2                      1.0                        4739  "
      ]
     },
     "execution_count": 23,
     "metadata": {},
     "output_type": "execute_result"
    }
   ],
   "source": [
    "tolink_dataset = tolink_dataset.withColumn('best_candidate_exact', tolink_dataset.result_exact_search['best_candidate_exact'])\n",
    "tolink_dataset = tolink_dataset.withColumn('sim_best_candidate_exact', tolink_dataset.result_exact_search['sim_best_candidate_exact'])\n",
    "tolink_dataset = tolink_dataset.withColumn('similarity_exact_candidates', tolink_dataset.result_exact_search['best_candidate_exact'])\n",
    "\n",
    "cols_to_drop = ['result_exact_search']\n",
    "tolink_dataset = tolink_dataset.drop(*cols_to_drop)\n",
    "tolink_dataset.limit(3).toPandas()"
   ]
  },
  {
   "cell_type": "code",
   "execution_count": 24,
   "metadata": {},
   "outputs": [
    {
     "data": {
      "text/plain": [
       "1000"
      ]
     },
     "execution_count": 24,
     "metadata": {},
     "output_type": "execute_result"
    }
   ],
   "source": [
    "tolink_dataset.count()"
   ]
  },
  {
   "cell_type": "code",
   "execution_count": 25,
   "metadata": {},
   "outputs": [
    {
     "data": {
      "text/plain": [
       "199"
      ]
     },
     "execution_count": 25,
     "metadata": {},
     "output_type": "execute_result"
    }
   ],
   "source": [
    "tolink_dataset.withColumn('sim_best_candidate_exact', F.col('sim_best_candidate_exact').cast('long')).filter(F.col('sim_best_candidate_exact').isNull()).count()"
   ]
  },
  {
   "cell_type": "code",
   "execution_count": 26,
   "metadata": {},
   "outputs": [],
   "source": [
    "tolink_dataset = tolink_dataset.withColumn('sim_best_candidate_exact', F.col('sim_best_candidate_exact').cast('long'))"
   ]
  },
  {
   "cell_type": "code",
   "execution_count": 28,
   "metadata": {},
   "outputs": [
    {
     "name": "stdout",
     "output_type": "stream",
     "text": [
      "root\n",
      " |-- id_cidacs_b: string (nullable = true)\n",
      " |-- nome_b: string (nullable = true)\n",
      " |-- nome_mae_b: string (nullable = true)\n",
      " |-- dt_nasc_b: string (nullable = true)\n",
      " |-- sexo_b: string (nullable = true)\n",
      " |-- vars: array (nullable = true)\n",
      " |    |-- element: string (containsNull = true)\n",
      " |-- exact_queries: string (nullable = true)\n",
      " |-- best_candidate_exact: string (nullable = true)\n",
      " |-- sim_best_candidate_exact: long (nullable = true)\n",
      " |-- similarity_exact_candidates: string (nullable = true)\n",
      "\n"
     ]
    }
   ],
   "source": [
    "tolink_dataset.printSchema()"
   ]
  },
  {
   "cell_type": "code",
   "execution_count": 27,
   "metadata": {},
   "outputs": [
    {
     "name": "stdout",
     "output_type": "stream",
     "text": [
      "+-------+------------------------+\n",
      "|summary|sim_best_candidate_exact|\n",
      "+-------+------------------------+\n",
      "|  count|                     801|\n",
      "|   mean|                     1.0|\n",
      "| stddev|                     0.0|\n",
      "|    min|                       1|\n",
      "|    max|                       1|\n",
      "+-------+------------------------+\n",
      "\n"
     ]
    }
   ],
   "source": [
    "tolink_dataset.select('sim_best_candidate_exact').describe().show()"
   ]
  },
  {
   "cell_type": "code",
   "execution_count": 29,
   "metadata": {},
   "outputs": [
    {
     "data": {
      "text/plain": [
       "{'index_data': 'yes',\n",
       " 'es_index_name': 'fd-cidacs-rl',\n",
       " 'es_connect_string': 'http://localhost:9200',\n",
       " 'query_size': 50,\n",
       " 'cutoff_exact_match': '0.95',\n",
       " 'null_value': '99',\n",
       " 'temp_dir': '../0_global_data/fd-cidacs-rl/temp_dataframe/',\n",
       " 'datasets_info': {'indexed_dataset': {'path': '../0_global_data/fd-cidacs-rl/sinthetic-dataset-A.parquet',\n",
       "   'extension': 'parquet',\n",
       "   'columns': ['id_cidacs_a', 'nome_a', 'nome_mae_a', 'dt_nasc_a', 'sexo_a'],\n",
       "   'id_column_name': 'id_cidacs_a'},\n",
       "  'tolink_dataset': {'path': '../0_global_data/fd-cidacs-rl/sinthetic-datasets-b/sinthetic-datasets-b-1000.parquet',\n",
       "   'extension': 'parquet',\n",
       "   'columns': ['id_cidacs_b', 'nome_b', 'nome_mae_b', 'dt_nasc_b', 'sexo_b'],\n",
       "   'id_column_name': 'id_cidacs_b'},\n",
       "  'result_dataset': {'path': '../0_global_data/result/'}},\n",
       " 'comparisons': {'name': {'indexed_col': 'nome_a',\n",
       "   'tolink_col': 'nome_b',\n",
       "   'must_match': 'true',\n",
       "   'should_match': 'true',\n",
       "   'is_fuzzy': 'true',\n",
       "   'boost': '3.0',\n",
       "   'query_type': 'match',\n",
       "   'similarity': 'jaro_winkler',\n",
       "   'weight': 5.0,\n",
       "   'penalty': 0.02},\n",
       "  'mothers_name': {'indexed_col': 'nome_mae_a',\n",
       "   'tolink_col': 'nome_mae_b',\n",
       "   'must_match': 'true',\n",
       "   'should_match': 'true',\n",
       "   'is_fuzzy': 'true',\n",
       "   'boost': '2.0',\n",
       "   'query_type': 'match',\n",
       "   'similarity': 'jaro_winkler',\n",
       "   'weight': 5.0,\n",
       "   'penalty': 0.02},\n",
       "  'birthdate': {'indexed_col': 'dt_nasc_a',\n",
       "   'tolink_col': 'dt_nasc_b',\n",
       "   'must_match': 'false',\n",
       "   'should_match': 'true',\n",
       "   'is_fuzzy': 'false',\n",
       "   'boost': '',\n",
       "   'query_type': 'term',\n",
       "   'similarity': 'hamming',\n",
       "   'weight': 1.0,\n",
       "   'penalty': 0.02},\n",
       "  'sex': {'indexed_col': 'sexo_a',\n",
       "   'tolink_col': 'sexo_b',\n",
       "   'must_match': 'true',\n",
       "   'should_match': 'true',\n",
       "   'is_fuzzy': 'false',\n",
       "   'boost': '',\n",
       "   'query_type': 'term',\n",
       "   'similarity': 'overlap',\n",
       "   'weight': 3.0,\n",
       "   'penalty': 0.02}}}"
      ]
     },
     "execution_count": 29,
     "metadata": {},
     "output_type": "execute_result"
    }
   ],
   "source": [
    "config"
   ]
  },
  {
   "cell_type": "code",
   "execution_count": null,
   "metadata": {},
   "outputs": [],
   "source": []
  },
  {
   "cell_type": "code",
   "execution_count": null,
   "metadata": {},
   "outputs": [],
   "source": []
  },
  {
   "cell_type": "code",
   "execution_count": null,
   "metadata": {},
   "outputs": [],
   "source": []
  },
  {
   "cell_type": "code",
   "execution_count": 65,
   "metadata": {},
   "outputs": [],
   "source": [
    "def build_non_exact_queries(vars_col): \n",
    "    \"\"\"\n",
    "    Let us suppose the following values:\n",
    "    vars_col = ['ROBESPIERRE PITA', '1987-05-05', '1', 'Mari Santos']\n",
    "    indexed_cols = ['name', 'birthdate', 'sex', 'mothers_name']\n",
    "    query_size = 10\n",
    "    \n",
    "    and only the first two attributes are assigned to exact match.\n",
    "    So, the resulting query column would be: \n",
    "    '{ \"size\": \"50\", \"query\": \n",
    "                    { \"bool\": { \"must\": [ \n",
    "                                {\"match\": {\"name\":\"ROBESPIERRE PITA\"}},\n",
    "                                {\"match\": {\"birthdate\":\"19870505\"}}] } } }'\n",
    "    Requirements: \n",
    "    - All values on vars_col must be converted into string\n",
    "    - All the hyphens symbols must be taken from date type used to search (e.g. 1987-05-05 must be converted to 19870505)\n",
    "    - The config json must be available as a broadcast through sc.broadcast() function.\n",
    "    - The names of indexed columns must be correctly filled. \n",
    "    \"\"\"\n",
    "    config_ = config_bc.value\n",
    "    query_size = config_['query_size']\n",
    "    \n",
    "    tolink_cols_dict = get_match_cols_and_values(vars_col, 'general', False)\n",
    "    \n",
    "    # -------------------------------------------- #\n",
    "    #   starting the building of query string      #\n",
    "    # -------------------------------------------- #\n",
    "    \n",
    "    # filling the query core with all indexed columns and values from vars_col\n",
    "    comparisons = [config['comparisons'][x] for x in config['comparisons']]\n",
    "    strings = []\n",
    "    for col in list(tolink_cols_dict.keys()):\n",
    "        query_col_instructions = [x for x in comparisons if x['indexed_col'] == col][0]\n",
    "        print(col)\n",
    "        query_type = str(query_col_instructions['query_type'])\n",
    "        prefix_ = \"\"\"{\"%s\": {\"\"\" % query_type\n",
    "        suffix_ = \"\"\"}}\"\"\"\n",
    "\n",
    "        if query_col_instructions['should_match'] == 'true':\n",
    "            if query_col_instructions['is_fuzzy'] == 'true':\n",
    "                \n",
    "                boost = str(query_col_instructions['boost'])\n",
    "                string = str(prefix_) + \"\\\"\" + str(col) + \"\\\"\" + \":\" + \"\\\"\" +  str(tolink_cols_dict[col]) + \"\\\"\" + \", \\\"fuzziness\\\":\\\"AUTO\\\", \\\"operator\\\":\\\"or\\\", \\\"boost\\\":\\\"\" + boost + \"\\\"\" + str(suffix_)\n",
    "            if query_col_instructions['is_fuzzy'] == 'false':\n",
    "                string = str(prefix_) + \"\\\"\" + str(col) + \"\\\"\" + \":\" + \"\\\"\" +  str(tolink_cols_dict[col]) + \"\\\"\" + str(suffix_)\n",
    "        strings.append(string)\n",
    "    \n",
    "    # building the query core. \n",
    "    # is_fuzzy = 'true' should be like: {\"match\": {\"name\":\"ROBESPIERRE PITA\", \"fuzziness\":\"AUTO\", \"operator\":\"or\", \"boost\":\"3.0\"}}, {\"term\": {\"dt_nasc_a\":\"20070816\"}}\n",
    "    line = ','.join(strings)\n",
    "    \n",
    "    # Finally the final query string\n",
    "    complete_query = \"\"\"{ \"size\": \"%s\", \"query\": { \"bool\": { \"should\": [ %s ] } } }\"\"\" % (query_size,line)\n",
    "    \n",
    "    return complete_query\n",
    "udf_build_exact_queries = F.udf(build_exact_queries, StringType())"
   ]
  },
  {
   "cell_type": "code",
   "execution_count": 33,
   "metadata": {},
   "outputs": [],
   "source": [
    "vars_col = ['1081', 'FABIOLA FAGUNDES FRICKS', 'LUCIMARA COSTA NASCIMENTO', '20070816', '2']"
   ]
  },
  {
   "cell_type": "code",
   "execution_count": 66,
   "metadata": {},
   "outputs": [
    {
     "name": "stdout",
     "output_type": "stream",
     "text": [
      "nome_a\n",
      "nome_mae_a\n",
      "dt_nasc_a\n",
      "sexo_a\n"
     ]
    },
    {
     "data": {
      "text/plain": [
       "'{ \"size\": \"50\", \"query\": { \"bool\": { \"should\": [ {\"match\": {\"nome_a\":\"FABIOLA FAGUNDES FRICKS\", \"fuzziness\":\"AUTO\", \"operator\":\"or\", \"boost\":\"3.0\"}},{\"match\": {\"nome_mae_a\":\"LUCIMARA COSTA NASCIMENTO\", \"fuzziness\":\"AUTO\", \"operator\":\"or\", \"boost\":\"2.0\"}},{\"term\": {\"dt_nasc_a\":\"20070816\"}},{\"term\": {\"sexo_a\":\"2\"}} ] } } }'"
      ]
     },
     "execution_count": 66,
     "metadata": {},
     "output_type": "execute_result"
    }
   ],
   "source": [
    "build_non_exact_queries(vars_col)"
   ]
  },
  {
   "cell_type": "code",
   "execution_count": null,
   "metadata": {},
   "outputs": [],
   "source": [
    "{ \"size\": \"50\", \n",
    " \"query\": { \n",
    "     \"bool\": { \n",
    "         \"should\": [ \n",
    "             {\"match\": {\"nome_a\":\"FABIOLA FAGUNDES FRICKS\", \"fuzziness\":\"AUTO\", \"operator\":\"or\", \"boost\":\"3.0\"}},\n",
    "             {\"match\": {\"nome_mae_a\":\"LUCIMARA COSTA NASCIMENTO\", \"fuzziness\":\"AUTO\", \"operator\":\"or\", \"boost\":\"2.0\"}},\n",
    "             {\"term\": {\"sexo_a\":\"2\"}} ] } } }"
   ]
  },
  {
   "cell_type": "code",
   "execution_count": 34,
   "metadata": {},
   "outputs": [],
   "source": [
    "config_ = config_bc.value\n",
    "query_size = config_['query_size']"
   ]
  },
  {
   "cell_type": "code",
   "execution_count": 54,
   "metadata": {},
   "outputs": [
    {
     "data": {
      "text/plain": [
       "{'nome_a': 'FABIOLA FAGUNDES FRICKS',\n",
       " 'nome_mae_a': 'LUCIMARA COSTA NASCIMENTO',\n",
       " 'dt_nasc_a': '20070816',\n",
       " 'sexo_a': '2'}"
      ]
     },
     "execution_count": 54,
     "metadata": {},
     "output_type": "execute_result"
    }
   ],
   "source": [
    "tolink_cols_dict = get_match_cols_and_values(vars_col, 'general', False)\n",
    "tolink_cols_dict"
   ]
  },
  {
   "cell_type": "code",
   "execution_count": 60,
   "metadata": {},
   "outputs": [
    {
     "name": "stdout",
     "output_type": "stream",
     "text": [
      "nome_a\n",
      "{\"match\": {\"nome_a\":\"FABIOLA FAGUNDES FRICKS\", \"fuzziness\":\"AUTO\", \"operator\":\"or\", \"boost\":\"3.0\"}}\n",
      "nome_mae_a\n",
      "{\"match\": {\"nome_mae_a\":\"LUCIMARA COSTA NASCIMENTO\", \"fuzziness\":\"AUTO\", \"operator\":\"or\", \"boost\":\"2.0\"}}\n",
      "dt_nasc_a\n",
      "{\"term\": {\"dt_nasc_a\":\"20070816\"}}\n",
      "sexo_a\n",
      "{\"term\": {\"sexo_a\":\"2\"}}\n"
     ]
    }
   ],
   "source": [
    "comparisons = [config['comparisons'][x] for x in config['comparisons']]\n",
    "strings = []\n",
    "for col in list(tolink_cols_dict.keys()):\n",
    "    query_col_instructions = [x for x in comparisons if x['indexed_col'] == col][0]\n",
    "    print(col)\n",
    "    query_type = str(query_col_instructions['query_type'])\n",
    "    prefix_ = \"\"\"{\"%s\": {\"\"\" % query_type\n",
    "    suffix_ = \"\"\"}}\"\"\"\n",
    "\n",
    "    if query_col_instructions['should_match'] == 'true':\n",
    "        if query_col_instructions['is_fuzzy'] == 'true':\n",
    "            boost = str(query_col_instructions['boost'])\n",
    "            string = str(prefix_) + \"\\\"\" + str(col) + \"\\\"\" + \":\" + \"\\\"\" +  str(tolink_cols_dict[col]) + \"\\\"\" + \", \\\"fuzziness\\\":\\\"AUTO\\\", \\\"operator\\\":\\\"or\\\", \\\"boost\\\":\\\"\" + boost + \"\\\"\" + str(suffix_)\n",
    "        if query_col_instructions['is_fuzzy'] == 'false':\n",
    "            string = str(prefix_) + \"\\\"\" + str(col) + \"\\\"\" + \":\" + \"\\\"\" +  str(tolink_cols_dict[col]) + \"\\\"\" + str(suffix_)\n",
    "    print(string)"
   ]
  },
  {
   "cell_type": "code",
   "execution_count": 57,
   "metadata": {},
   "outputs": [
    {
     "data": {
      "text/plain": [
       "{'indexed_col': 'nome_a',\n",
       " 'tolink_col': 'nome_b',\n",
       " 'must_match': 'true',\n",
       " 'should_match': 'true',\n",
       " 'is_fuzzy': 'true',\n",
       " 'boost': '3.0',\n",
       " 'query_type': 'match',\n",
       " 'similarity': 'jaro_winkler',\n",
       " 'weight': 5.0,\n",
       " 'penalty': 0.02}"
      ]
     },
     "execution_count": 57,
     "metadata": {},
     "output_type": "execute_result"
    }
   ],
   "source": [
    "query_col_instructions"
   ]
  },
  {
   "cell_type": "code",
   "execution_count": 46,
   "metadata": {},
   "outputs": [
    {
     "data": {
      "text/plain": [
       "{'indexed_col': 'nome_a',\n",
       " 'tolink_col': 'nome_b',\n",
       " 'must_match': 'true',\n",
       " 'should_match': 'true',\n",
       " 'is_fuzzy': 'true',\n",
       " 'boost': '3.0',\n",
       " 'query_type': 'match',\n",
       " 'similarity': 'jaro_winkler',\n",
       " 'weight': 5.0,\n",
       " 'penalty': 0.02}"
      ]
     },
     "execution_count": 46,
     "metadata": {},
     "output_type": "execute_result"
    }
   ],
   "source": [
    "query_col_instructions = [x for x in comparisons if x['indexed_col'] == 'nome_a'][0]\n",
    "query_col_instructions"
   ]
  },
  {
   "cell_type": "code",
   "execution_count": 50,
   "metadata": {},
   "outputs": [
    {
     "name": "stdout",
     "output_type": "stream",
     "text": [
      "{\"match\": {\"sexo_a\":\"2\", \"fuzziness\":\"AUTO\", \"operator\":\"or\", \"boost\":\"3.0\"}}\n"
     ]
    }
   ],
   "source": []
  },
  {
   "cell_type": "code",
   "execution_count": 44,
   "metadata": {},
   "outputs": [
    {
     "data": {
      "text/plain": [
       "'{\"match\": {\"sexo_a\":\"2\"}}'"
      ]
     },
     "execution_count": 44,
     "metadata": {},
     "output_type": "execute_result"
    }
   ],
   "source": [
    "string"
   ]
  },
  {
   "cell_type": "code",
   "execution_count": null,
   "metadata": {},
   "outputs": [],
   "source": []
  },
  {
   "cell_type": "code",
   "execution_count": null,
   "metadata": {},
   "outputs": [],
   "source": []
  },
  {
   "cell_type": "code",
   "execution_count": null,
   "metadata": {},
   "outputs": [],
   "source": [
    "content = {\n",
    "        'size': 5,\n",
    "        'query': {\n",
    "            'bool': {\n",
    "                'must': [\n",
    "                    {'match': {'lb_sex': sex}},\n",
    "                    {'match': {'lb_birthday_child': birthday_child}},\n",
    "                    {'match': {'lb_addr_residence': addr_residence}}\n",
    "                ]\n",
    "            }\n",
    "        }\n",
    "    }"
   ]
  },
  {
   "cell_type": "code",
   "execution_count": null,
   "metadata": {},
   "outputs": [],
   "source": [
    "content = {\n",
    "        'size': 5,\n",
    "        'query': {\n",
    "            'bool': {\n",
    "                'should': [\n",
    "                    {'match': {'lb_sex': {'query': sex, 'fuzziness':'AUTO', 'operator':'or', 'boost':'2.0'}}},\n",
    "                    {'match': {'lb_addr_residence': {'query': addr_residence, 'fuzziness':'AUTO', 'operator':'or', 'boost':'4.0'}}},\n",
    "                    {'match': {'lb_addr_occurrence': {'query': addr_occurrence, 'fuzziness':'AUTO', 'operator':'or', 'boost':'0.5'}}},\n",
    "                    {'match': {'lb_state_residence': {'query': state_residence, 'fuzziness':'AUTO', 'operator':'or', 'boost':'1.0'}}},\n",
    "                    {'match': {'lb_state_occurrence': {'query': state_occurrence, 'fuzziness':'AUTO', 'operator':'or', 'boost':'0.5'}}},\n",
    "                    {'match': {'lb_state_mun_residence': {'query': state_mun_residence, 'fuzziness':'AUTO', 'operator':'or', 'boost':'3.0'}}},\n",
    "                    {'match': {'lb_state_mun_occurrence': {'query': state_mun_occurrence, 'fuzziness':'AUTO', 'operator':'or', 'boost':'0.5'}}},\n",
    "                    {'match': {'lb_day_birth': {'query': day_birth}}},\n",
    "                    {'match': {'lb_month_birth': {'query': month_birth}}},\n",
    "                    {'match': {'lb_year_birth': {'query': year_birth}}},\n",
    "                    {'match': {'lb_mun_residence_pad': {'query': mun_residence_pad}}},\n",
    "                    {'match': {'lb_loc_residence_pad': {'query': loc_residence_pad}}},\n",
    "                    {'match': {'lb_mun_occurrence_pad': {'query': mun_occurrence_pad}}},\n",
    "                    {'match': {'lb_loc_occurrence_pad': {'query': loc_occurrence_pad}}},\n",
    "                    {'term': {'lb_birthday_child': birthday_child}}\n",
    "                ]\n",
    "            }\n",
    "        }\n",
    "    }"
   ]
  }
 ],
 "metadata": {
  "kernelspec": {
   "display_name": "Python 3",
   "language": "python",
   "name": "python3"
  },
  "language_info": {
   "codemirror_mode": {
    "name": "ipython",
    "version": 3
   },
   "file_extension": ".py",
   "mimetype": "text/x-python",
   "name": "python",
   "nbconvert_exporter": "python",
   "pygments_lexer": "ipython3",
   "version": "3.8.5"
  }
 },
 "nbformat": 4,
 "nbformat_minor": 4
}
