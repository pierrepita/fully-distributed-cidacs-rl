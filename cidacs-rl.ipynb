{
 "cells": [
  {
   "cell_type": "code",
   "execution_count": 1,
   "metadata": {},
   "outputs": [],
   "source": [
    "import pyspark.sql.functions as F\n",
    "from pyspark.sql.types import *\n",
    "\n",
    "import jellyfish\n",
    "from elasticsearch import Elasticsearch\n",
    "import json"
   ]
  },
  {
   "cell_type": "code",
   "execution_count": 2,
   "metadata": {},
   "outputs": [],
   "source": [
    "import pandas as pd\n",
    "pd.set_option(\"display.max_rows\", 999)\n",
    "pd.set_option(\"display.max_columns\", 999)"
   ]
  },
  {
   "cell_type": "code",
   "execution_count": 85,
   "metadata": {},
   "outputs": [
    {
     "data": {
      "text/plain": [
       "{'index_data': 'yes',\n",
       " 'es_index_name': 'fd-cidacs-rl',\n",
       " 'es_connect_string': 'http://localhost:9200',\n",
       " 'query_size': 50,\n",
       " 'cutoff_exact_match': '0.95',\n",
       " 'datasets_info': {'indexed_dataset': {'path': '../0_global_data/fd-cidacs-rl/sinthetic-dataset-A.parquet',\n",
       "   'extension': 'parquet',\n",
       "   'columns': ['id_cidacs_a', 'nome_a', 'nome_mae_a', 'dt_nasc_a', 'sexo_a'],\n",
       "   'id_column_name': 'id_cidacs_a'},\n",
       "  'tolink_dataset': {'path': '../0_global_data/fd-cidacs-rl/sinthetic-datasets-b/sinthetic-datasets-b-1000.parquet',\n",
       "   'extension': 'parquet',\n",
       "   'columns': ['id_cidacs_b', 'nome_b', 'nome_mae_b', 'dt_nasc_b', 'sexo_b'],\n",
       "   'id_column_name': 'id_cidacs_b'},\n",
       "  'result_dataset': {'path': '../0_global_data/result/'}},\n",
       " 'comparisons': {'name': {'indexed_col': 'nome_a',\n",
       "   'tolink_col': 'nome_b',\n",
       "   'must_match': 'true',\n",
       "   'should_match': 'true',\n",
       "   'is_fuzzy': 'true',\n",
       "   'boost': '3.0',\n",
       "   'query_type': 'match',\n",
       "   'similarity': 'jaro_wikler',\n",
       "   'weight': 1.0,\n",
       "   'penalty': 0.02},\n",
       "  'mothers_name': {'indexed_col': 'nome_mae_a',\n",
       "   'tolink_col': 'nome_mae_b',\n",
       "   'must_match': 'true',\n",
       "   'should_match': 'true',\n",
       "   'is_fuzzy': 'true',\n",
       "   'boost': '2.0',\n",
       "   'query_type': 'match',\n",
       "   'similarity': 'jaro_wikler',\n",
       "   'weight': 1.0,\n",
       "   'penalty': 0.02},\n",
       "  'birthdate': {'indexed_col': 'dt_nasc_a',\n",
       "   'tolink_col': 'dt_nasc_b',\n",
       "   'must_match': 'false',\n",
       "   'should_match': 'true',\n",
       "   'is_fuzzy': 'false',\n",
       "   'boost': '',\n",
       "   'query_type': 'term',\n",
       "   'similarity': 'hamming',\n",
       "   'weight': 1.0,\n",
       "   'penalty': 0.02},\n",
       "  'sex': {'indexed_col': 'sexo_a',\n",
       "   'tolink_col': 'sexo_b',\n",
       "   'must_match': 'true',\n",
       "   'should_match': 'true',\n",
       "   'is_fuzzy': 'false',\n",
       "   'boost': '',\n",
       "   'query_type': 'term',\n",
       "   'similarity': 'overlap',\n",
       "   'weight': 1.0,\n",
       "   'penalty': 0.02}}}"
      ]
     },
     "execution_count": 85,
     "metadata": {},
     "output_type": "execute_result"
    }
   ],
   "source": [
    "f = open('config.txt')\n",
    "config = json.load(f)\n",
    "config_bc = sc.broadcast(config)\n",
    "config"
   ]
  },
  {
   "cell_type": "markdown",
   "metadata": {},
   "source": [
    "# ES functions"
   ]
  },
  {
   "cell_type": "markdown",
   "metadata": {},
   "source": [
    "#### indexing"
   ]
  },
  {
   "cell_type": "code",
   "execution_count": 86,
   "metadata": {},
   "outputs": [],
   "source": [
    "def index_dataframe(dataframe, es_index_name):\n",
    "    # creating new index\n",
    "    dataframe.write.format(\"org.elasticsearch.spark.sql\") \\\n",
    "                 .option(\"es.resource\", es_index_name).mode('overwrite').save()"
   ]
  },
  {
   "cell_type": "markdown",
   "metadata": {},
   "source": [
    "#### exact query building"
   ]
  },
  {
   "cell_type": "code",
   "execution_count": 91,
   "metadata": {},
   "outputs": [
    {
     "data": {
      "text/plain": [
       "['nome_a', 'nome_mae_a', 'sexo_a']"
      ]
     },
     "execution_count": 91,
     "metadata": {},
     "output_type": "execute_result"
    }
   ],
   "source": [
    "[config_['comparisons'][x]['indexed_col'] for x in config_['comparisons'] if config_['comparisons'][x]['must_match'] == 'true']"
   ]
  },
  {
   "cell_type": "code",
   "execution_count": 92,
   "metadata": {},
   "outputs": [],
   "source": [
    "def build_exact_queries(vars_col): \n",
    "    \"\"\"\n",
    "    Let us suppose the following values:\n",
    "    vars_col = ['ROBESPIERRE PITA', '1987-05-05', '1', 'Mari Santos']\n",
    "    indexed_cols = ['name', 'birthdate', 'sex', 'mothers_name']\n",
    "    query_size = 10\n",
    "    \n",
    "    and only the first two attributes are assigned to exact match.\n",
    "    So, the resulting query column would be: \n",
    "    '{ \"size\": \"50\", \"query\": \n",
    "                    { \"bool\": { \"must\": [ \n",
    "                                {\"match\": {\"name\":\"ROBESPIERRE PITA\"}},\n",
    "                                {\"birthdate\": {\"name\":\"1987-05-05\"}}] } } }'\n",
    "    Requirements: \n",
    "    - All values on vars_col must be converted into string\n",
    "    - All the hyphens symbols must be taken from date type used to search (e.g. 1987-05-05 must be converted to 19870505)\n",
    "    - The config json must be available as a broadcast through sc.broadcast() function.\n",
    "    - The names of indexed columns must be correctly filled. \n",
    "    \"\"\"\n",
    "    config_ = config_bc.value\n",
    "    query_size = config_['query_size']\n",
    "\n",
    "    # getting names of indexed columns\n",
    "    indexed_id_column = config_['datasets_info']['indexed_dataset']['id_column_name']\n",
    "    \n",
    "    indexed_cols = config_['datasets_info']['indexed_dataset']['columns']\n",
    "    indexed_cols = [x for x in indexed_cols if x != indexed_id_column]\n",
    "        \n",
    "    # notice that we are linking indexed keys with tolink values\n",
    "    # the keys will be used to set which field will be fetched on es\n",
    "    # the values will be used as search content\n",
    "    tolink_cols_dict = dict(zip(indexed_cols, vars_col))\n",
    "    \n",
    "    # finding which are the columns used on exact match step\n",
    "    indexed_exact_match_vars = [config_['comparisons'][x]['indexed_col'] for x in config_['comparisons'] if config_['comparisons'][x]['must_match'] == 'true']\n",
    "    non_exact_match_cols = list(set(indexed_cols) - set(indexed_exact_match_vars))\n",
    "    # deleting those columns of non-exact match\n",
    "    [tolink_cols_dict.pop(x, None) for x in non_exact_match_cols]\n",
    "    \n",
    "    # -------------------------------------------- #\n",
    "    #   starting the building of query string      #\n",
    "    # -------------------------------------------- #\n",
    "    # setting the preffix and suffix of query core\n",
    "    prefix_ = \"\"\"{\"match\": {\"\"\"\n",
    "    suffix_ = \"\"\"}}\"\"\"\n",
    "    \n",
    "    # filling the query core with all indexed columns and values from vars_col\n",
    "    strings = []\n",
    "    for col in list(tolink_cols_dict.keys()):\n",
    "        string = str(prefix_) + \"\\\"\" + str(col) + \"\\\"\" + \":\" + \"\\\"\" +  str(tolink_cols_dict[col]) + \"\\\"\" + str(suffix_)\n",
    "        print(string)\n",
    "        strings.append(string)\n",
    "    \n",
    "    # building the query core. \n",
    "    # Should be like: {\"match\": {\"name\":\"ROBESPIERRE PITA\"}}, {\"birthdate\": {\"name\":\"1987-05-05\"}}\n",
    "    line = ','.join(strings)\n",
    "    \n",
    "    # Finally the final query string\n",
    "    complete_query = \"\"\"{ \"size\": \"%s\", \"query\": { \"bool\": { \"must\": [ %s ] } } }\"\"\" % (query_size,line)\n",
    "    \n",
    "    return complete_query\n",
    "udf_build_exact_queries = F.udf(build_exact_queries, StringType()) "
   ]
  },
  {
   "cell_type": "markdown",
   "metadata": {},
   "source": [
    "# Reading prepocessed datasets"
   ]
  },
  {
   "cell_type": "code",
   "execution_count": 78,
   "metadata": {},
   "outputs": [],
   "source": [
    "# getting the auxiliary variables\n",
    "data_ext = config['datasets_info']['indexed_dataset']['extension']\n",
    "data_path = config['datasets_info']['indexed_dataset']['path']\n",
    "\n",
    "# test the extension of the dataset to properly read it\n",
    "if data_ext == 'csv':\n",
    "    indexed_dataset = spark.read.csv(data_path, header=True)\n",
    "elif data_ext == 'parquet':\n",
    "    indexed_dataset = spark.read.parquet(data_path)\n",
    "else:\n",
    "    print(\"Please make sure the extension for this dataset is set as 'csv' or 'parquet'\")"
   ]
  },
  {
   "cell_type": "code",
   "execution_count": 79,
   "metadata": {},
   "outputs": [
    {
     "data": {
      "text/html": [
       "<div>\n",
       "<style scoped>\n",
       "    .dataframe tbody tr th:only-of-type {\n",
       "        vertical-align: middle;\n",
       "    }\n",
       "\n",
       "    .dataframe tbody tr th {\n",
       "        vertical-align: top;\n",
       "    }\n",
       "\n",
       "    .dataframe thead th {\n",
       "        text-align: right;\n",
       "    }\n",
       "</style>\n",
       "<table border=\"1\" class=\"dataframe\">\n",
       "  <thead>\n",
       "    <tr style=\"text-align: right;\">\n",
       "      <th></th>\n",
       "      <th>id_cidacs_a</th>\n",
       "      <th>nome_a</th>\n",
       "      <th>nome_mae_a</th>\n",
       "      <th>dt_nasc_a</th>\n",
       "      <th>sexo_a</th>\n",
       "    </tr>\n",
       "  </thead>\n",
       "  <tbody>\n",
       "    <tr>\n",
       "      <th>0</th>\n",
       "      <td>1</td>\n",
       "      <td>YASMIM VITORIA MATIAS FONSECA</td>\n",
       "      <td>TACIANY DOS SANTOS</td>\n",
       "      <td>2007-11-22</td>\n",
       "      <td>2</td>\n",
       "    </tr>\n",
       "    <tr>\n",
       "      <th>1</th>\n",
       "      <td>2</td>\n",
       "      <td>PEDRO HENRIQUE MARTINS DE CARVALHO</td>\n",
       "      <td>FRANCILEIDE DOS SANTOS ALVES</td>\n",
       "      <td>2006-11-02</td>\n",
       "      <td>1</td>\n",
       "    </tr>\n",
       "    <tr>\n",
       "      <th>2</th>\n",
       "      <td>3</td>\n",
       "      <td>FABRICIO RODRIGUES DOS SANTOS</td>\n",
       "      <td>MARCELA MACHADO DA SILVA</td>\n",
       "      <td>2007-11-07</td>\n",
       "      <td>1</td>\n",
       "    </tr>\n",
       "  </tbody>\n",
       "</table>\n",
       "</div>"
      ],
      "text/plain": [
       "  id_cidacs_a                              nome_a  \\\n",
       "0           1       YASMIM VITORIA MATIAS FONSECA   \n",
       "1           2  PEDRO HENRIQUE MARTINS DE CARVALHO   \n",
       "2           3       FABRICIO RODRIGUES DOS SANTOS   \n",
       "\n",
       "                     nome_mae_a   dt_nasc_a  sexo_a  \n",
       "0            TACIANY DOS SANTOS  2007-11-22       2  \n",
       "1  FRANCILEIDE DOS SANTOS ALVES  2006-11-02       1  \n",
       "2      MARCELA MACHADO DA SILVA  2007-11-07       1  "
      ]
     },
     "execution_count": 79,
     "metadata": {},
     "output_type": "execute_result"
    }
   ],
   "source": [
    "indexed_dataset.limit(3).toPandas()"
   ]
  },
  {
   "cell_type": "code",
   "execution_count": 100,
   "metadata": {},
   "outputs": [],
   "source": [
    "# getting the auxiliary variables\n",
    "data_ext = config['datasets_info']['tolink_dataset']['extension']\n",
    "data_path = config['datasets_info']['tolink_dataset']['path']\n",
    "\n",
    "# test the extension of the dataset to properly read it\n",
    "if data_ext == 'csv':\n",
    "    tolink_dataset = spark.read.csv(data_path, header=True)\n",
    "elif data_ext == 'parquet':\n",
    "    tolink_dataset = spark.read.parquet(data_path)\n",
    "else:\n",
    "    print(\"Please make sure the extension for this dataset is set as 'csv' or 'parquet'\")"
   ]
  },
  {
   "cell_type": "markdown",
   "metadata": {},
   "source": [
    "#### preprocessing tolink dataset"
   ]
  },
  {
   "cell_type": "code",
   "execution_count": 102,
   "metadata": {},
   "outputs": [],
   "source": [
    "for col in tolink_dataset.columns:\n",
    "    tolink_dataset = tolink_dataset.withColumn(col, F.col(col).cast('string'))\n",
    "\n",
    "# All the hyphens symbols must be taken from date type variables converted to string\n",
    "tolink_dataset = tolink_dataset.withColumn('dt_nasc_b', F.regexp_replace(F.col('dt_nasc_b'), \"-\", \"\"))"
   ]
  },
  {
   "cell_type": "code",
   "execution_count": 103,
   "metadata": {},
   "outputs": [
    {
     "data": {
      "text/html": [
       "<div>\n",
       "<style scoped>\n",
       "    .dataframe tbody tr th:only-of-type {\n",
       "        vertical-align: middle;\n",
       "    }\n",
       "\n",
       "    .dataframe tbody tr th {\n",
       "        vertical-align: top;\n",
       "    }\n",
       "\n",
       "    .dataframe thead th {\n",
       "        text-align: right;\n",
       "    }\n",
       "</style>\n",
       "<table border=\"1\" class=\"dataframe\">\n",
       "  <thead>\n",
       "    <tr style=\"text-align: right;\">\n",
       "      <th></th>\n",
       "      <th>id_cidacs_b</th>\n",
       "      <th>nome_b</th>\n",
       "      <th>nome_mae_b</th>\n",
       "      <th>dt_nasc_b</th>\n",
       "      <th>sexo_b</th>\n",
       "    </tr>\n",
       "  </thead>\n",
       "  <tbody>\n",
       "    <tr>\n",
       "      <th>0</th>\n",
       "      <td>1081</td>\n",
       "      <td>FABIOLA FAGUNDES FRICKS</td>\n",
       "      <td>LUCIMARA COSTA NASCIMENTO</td>\n",
       "      <td>20070816</td>\n",
       "      <td>2</td>\n",
       "    </tr>\n",
       "    <tr>\n",
       "      <th>1</th>\n",
       "      <td>4582</td>\n",
       "      <td>ANA KAROLINA RODRIGUES SOUSA</td>\n",
       "      <td>CELINE RAIMUNDA SILVA</td>\n",
       "      <td>20090614</td>\n",
       "      <td>2</td>\n",
       "    </tr>\n",
       "    <tr>\n",
       "      <th>2</th>\n",
       "      <td>4739</td>\n",
       "      <td>NATALIA DAVID BENTO</td>\n",
       "      <td>KETLEN SANTOS</td>\n",
       "      <td>20091222</td>\n",
       "      <td>2</td>\n",
       "    </tr>\n",
       "  </tbody>\n",
       "</table>\n",
       "</div>"
      ],
      "text/plain": [
       "  id_cidacs_b                        nome_b                 nome_mae_b  \\\n",
       "0        1081       FABIOLA FAGUNDES FRICKS  LUCIMARA COSTA NASCIMENTO   \n",
       "1        4582  ANA KAROLINA RODRIGUES SOUSA      CELINE RAIMUNDA SILVA   \n",
       "2        4739           NATALIA DAVID BENTO              KETLEN SANTOS   \n",
       "\n",
       "  dt_nasc_b sexo_b  \n",
       "0  20070816      2  \n",
       "1  20090614      2  \n",
       "2  20091222      2  "
      ]
     },
     "execution_count": 103,
     "metadata": {},
     "output_type": "execute_result"
    }
   ],
   "source": [
    "tolink_dataset.limit(3).toPandas()"
   ]
  },
  {
   "cell_type": "markdown",
   "metadata": {},
   "source": [
    "# Indexing dataset"
   ]
  },
  {
   "cell_type": "code",
   "execution_count": 80,
   "metadata": {},
   "outputs": [],
   "source": [
    "# make sure all the cols in data are StringType()\n",
    "\n",
    "for col in indexed_dataset.columns:\n",
    "    indexed_dataset = indexed_dataset.withColumn(col, F.col(col).cast('string'))\n",
    "\n",
    "# All the hyphens symbols must be taken from date type variables converted to string\n",
    "indexed_dataset = indexed_dataset.withColumn('dt_nasc_a', F.regexp_replace(F.col('dt_nasc_a'), \"-\", \"\"))\n",
    "\n",
    "# indexing, at last\n",
    "index_df_response = config['index_data']\n",
    "index_name = config['es_index_name']\n",
    "if index_df_response == 'yes':\n",
    "    index_dataframe(indexed_dataset, index_name)"
   ]
  },
  {
   "cell_type": "code",
   "execution_count": 70,
   "metadata": {
    "jupyter": {
     "source_hidden": true
    }
   },
   "outputs": [],
   "source": [
    "# es = Elasticsearch('http://localhost:9200')\n",
    "# content = {\n",
    "#     'size': 1,\n",
    "#     'query': {\n",
    "#         'bool': {\n",
    "#             'must': [\n",
    "#                 {'match': {'dt_nasc_a': '20071122'}}\n",
    "#             ]\n",
    "#         }\n",
    "#     }\n",
    "# }\n",
    "# es.search(index=index_name, body=content)"
   ]
  },
  {
   "cell_type": "markdown",
   "metadata": {},
   "source": [
    "# Linking datasets"
   ]
  },
  {
   "cell_type": "markdown",
   "metadata": {},
   "source": [
    "#### auxiliary variables"
   ]
  },
  {
   "cell_type": "code",
   "execution_count": 104,
   "metadata": {},
   "outputs": [],
   "source": [
    "config_ = config_bc.value\n",
    "query_size = config_['query_size']"
   ]
  },
  {
   "cell_type": "markdown",
   "metadata": {},
   "source": [
    "#### creating vars column"
   ]
  },
  {
   "cell_type": "code",
   "execution_count": 105,
   "metadata": {},
   "outputs": [
    {
     "data": {
      "text/html": [
       "<div>\n",
       "<style scoped>\n",
       "    .dataframe tbody tr th:only-of-type {\n",
       "        vertical-align: middle;\n",
       "    }\n",
       "\n",
       "    .dataframe tbody tr th {\n",
       "        vertical-align: top;\n",
       "    }\n",
       "\n",
       "    .dataframe thead th {\n",
       "        text-align: right;\n",
       "    }\n",
       "</style>\n",
       "<table border=\"1\" class=\"dataframe\">\n",
       "  <thead>\n",
       "    <tr style=\"text-align: right;\">\n",
       "      <th></th>\n",
       "      <th>id_cidacs_b</th>\n",
       "      <th>nome_b</th>\n",
       "      <th>nome_mae_b</th>\n",
       "      <th>dt_nasc_b</th>\n",
       "      <th>sexo_b</th>\n",
       "      <th>vars</th>\n",
       "    </tr>\n",
       "  </thead>\n",
       "  <tbody>\n",
       "    <tr>\n",
       "      <th>0</th>\n",
       "      <td>1081</td>\n",
       "      <td>FABIOLA FAGUNDES FRICKS</td>\n",
       "      <td>LUCIMARA COSTA NASCIMENTO</td>\n",
       "      <td>20070816</td>\n",
       "      <td>2</td>\n",
       "      <td>[FABIOLA FAGUNDES FRICKS, LUCIMARA COSTA NASCI...</td>\n",
       "    </tr>\n",
       "    <tr>\n",
       "      <th>1</th>\n",
       "      <td>4582</td>\n",
       "      <td>ANA KAROLINA RODRIGUES SOUSA</td>\n",
       "      <td>CELINE RAIMUNDA SILVA</td>\n",
       "      <td>20090614</td>\n",
       "      <td>2</td>\n",
       "      <td>[ANA KAROLINA RODRIGUES SOUSA, CELINE RAIMUNDA...</td>\n",
       "    </tr>\n",
       "  </tbody>\n",
       "</table>\n",
       "</div>"
      ],
      "text/plain": [
       "  id_cidacs_b                        nome_b                 nome_mae_b  \\\n",
       "0        1081       FABIOLA FAGUNDES FRICKS  LUCIMARA COSTA NASCIMENTO   \n",
       "1        4582  ANA KAROLINA RODRIGUES SOUSA      CELINE RAIMUNDA SILVA   \n",
       "\n",
       "  dt_nasc_b sexo_b                                               vars  \n",
       "0  20070816      2  [FABIOLA FAGUNDES FRICKS, LUCIMARA COSTA NASCI...  \n",
       "1  20090614      2  [ANA KAROLINA RODRIGUES SOUSA, CELINE RAIMUNDA...  "
      ]
     },
     "execution_count": 105,
     "metadata": {},
     "output_type": "execute_result"
    }
   ],
   "source": [
    "tolink_id_column = config_['datasets_info']['tolink_dataset']['id_column_name']\n",
    "tolink_cols = config_['datasets_info']['tolink_dataset']['columns']\n",
    "tolink_cols = [x for x in tolink_cols if x != tolink_id_column]\n",
    "\n",
    "tolink_dataset = tolink_dataset.withColumn('vars', F.array(tolink_cols))\n",
    "tolink_dataset.limit(2).toPandas()"
   ]
  },
  {
   "cell_type": "markdown",
   "metadata": {},
   "source": [
    "#### creating exact_queries column"
   ]
  },
  {
   "cell_type": "code",
   "execution_count": 106,
   "metadata": {},
   "outputs": [
    {
     "data": {
      "text/html": [
       "<div>\n",
       "<style scoped>\n",
       "    .dataframe tbody tr th:only-of-type {\n",
       "        vertical-align: middle;\n",
       "    }\n",
       "\n",
       "    .dataframe tbody tr th {\n",
       "        vertical-align: top;\n",
       "    }\n",
       "\n",
       "    .dataframe thead th {\n",
       "        text-align: right;\n",
       "    }\n",
       "</style>\n",
       "<table border=\"1\" class=\"dataframe\">\n",
       "  <thead>\n",
       "    <tr style=\"text-align: right;\">\n",
       "      <th></th>\n",
       "      <th>id_cidacs_b</th>\n",
       "      <th>nome_b</th>\n",
       "      <th>nome_mae_b</th>\n",
       "      <th>dt_nasc_b</th>\n",
       "      <th>sexo_b</th>\n",
       "      <th>vars</th>\n",
       "      <th>exact_queries</th>\n",
       "    </tr>\n",
       "  </thead>\n",
       "  <tbody>\n",
       "    <tr>\n",
       "      <th>0</th>\n",
       "      <td>1081</td>\n",
       "      <td>FABIOLA FAGUNDES FRICKS</td>\n",
       "      <td>LUCIMARA COSTA NASCIMENTO</td>\n",
       "      <td>20070816</td>\n",
       "      <td>2</td>\n",
       "      <td>[FABIOLA FAGUNDES FRICKS, LUCIMARA COSTA NASCI...</td>\n",
       "      <td>{ \"size\": \"50\", \"query\": { \"bool\": { \"must\": [...</td>\n",
       "    </tr>\n",
       "    <tr>\n",
       "      <th>1</th>\n",
       "      <td>4582</td>\n",
       "      <td>ANA KAROLINA RODRIGUES SOUSA</td>\n",
       "      <td>CELINE RAIMUNDA SILVA</td>\n",
       "      <td>20090614</td>\n",
       "      <td>2</td>\n",
       "      <td>[ANA KAROLINA RODRIGUES SOUSA, CELINE RAIMUNDA...</td>\n",
       "      <td>{ \"size\": \"50\", \"query\": { \"bool\": { \"must\": [...</td>\n",
       "    </tr>\n",
       "    <tr>\n",
       "      <th>2</th>\n",
       "      <td>4739</td>\n",
       "      <td>NATALIA DAVID BENTO</td>\n",
       "      <td>KETLEN SANTOS</td>\n",
       "      <td>20091222</td>\n",
       "      <td>2</td>\n",
       "      <td>[NATALIA DAVID BENTO, KETLEN SANTOS, 20091222, 2]</td>\n",
       "      <td>{ \"size\": \"50\", \"query\": { \"bool\": { \"must\": [...</td>\n",
       "    </tr>\n",
       "  </tbody>\n",
       "</table>\n",
       "</div>"
      ],
      "text/plain": [
       "  id_cidacs_b                        nome_b                 nome_mae_b  \\\n",
       "0        1081       FABIOLA FAGUNDES FRICKS  LUCIMARA COSTA NASCIMENTO   \n",
       "1        4582  ANA KAROLINA RODRIGUES SOUSA      CELINE RAIMUNDA SILVA   \n",
       "2        4739           NATALIA DAVID BENTO              KETLEN SANTOS   \n",
       "\n",
       "  dt_nasc_b sexo_b                                               vars  \\\n",
       "0  20070816      2  [FABIOLA FAGUNDES FRICKS, LUCIMARA COSTA NASCI...   \n",
       "1  20090614      2  [ANA KAROLINA RODRIGUES SOUSA, CELINE RAIMUNDA...   \n",
       "2  20091222      2  [NATALIA DAVID BENTO, KETLEN SANTOS, 20091222, 2]   \n",
       "\n",
       "                                       exact_queries  \n",
       "0  { \"size\": \"50\", \"query\": { \"bool\": { \"must\": [...  \n",
       "1  { \"size\": \"50\", \"query\": { \"bool\": { \"must\": [...  \n",
       "2  { \"size\": \"50\", \"query\": { \"bool\": { \"must\": [...  "
      ]
     },
     "execution_count": 106,
     "metadata": {},
     "output_type": "execute_result"
    }
   ],
   "source": [
    "tolink_dataset = tolink_dataset.withColumn('exact_queries', udf_build_exact_queries(F.col('vars')))\n",
    "tolink_dataset.limit(3).toPandas()"
   ]
  },
  {
   "cell_type": "markdown",
   "metadata": {},
   "source": [
    "#### finding the best candidate and similarity"
   ]
  },
  {
   "cell_type": "code",
   "execution_count": null,
   "metadata": {},
   "outputs": [],
   "source": []
  },
  {
   "cell_type": "code",
   "execution_count": null,
   "metadata": {},
   "outputs": [],
   "source": []
  },
  {
   "cell_type": "code",
   "execution_count": null,
   "metadata": {},
   "outputs": [],
   "source": []
  },
  {
   "cell_type": "code",
   "execution_count": null,
   "metadata": {},
   "outputs": [],
   "source": []
  },
  {
   "cell_type": "code",
   "execution_count": null,
   "metadata": {},
   "outputs": [],
   "source": []
  },
  {
   "cell_type": "code",
   "execution_count": null,
   "metadata": {},
   "outputs": [],
   "source": []
  },
  {
   "cell_type": "code",
   "execution_count": 153,
   "metadata": {},
   "outputs": [
    {
     "name": "stdout",
     "output_type": "stream",
     "text": [
      "['nome_a', 'nome_mae_a', 'dt_nasc_a', 'sexo_a']\n",
      "['nome_b', 'nome_mae_b', 'dt_nasc_b', 'sexo_b']\n"
     ]
    }
   ],
   "source": [
    "\n",
    "\n",
    "indexed_id_column = config_['datasets_info']['indexed_dataset']['id_column_name']\n",
    "tolink_id_column = config_['datasets_info']['tolink_dataset']['id_column_name']\n",
    "\n",
    "indexed_cols = config_['datasets_info']['indexed_dataset']['columns']\n",
    "indexed_cols = [x for x in indexed_cols if x != indexed_id_column]\n",
    "print(indexed_cols)\n",
    "\n",
    "tolink_cols = config_['datasets_info']['tolink_dataset']['columns']\n",
    "tolink_cols = [x for x in tolink_cols if x != tolink_id_column]\n",
    "print(tolink_cols)"
   ]
  },
  {
   "cell_type": "code",
   "execution_count": 154,
   "metadata": {},
   "outputs": [],
   "source": [
    "list_values = ['FABIOLA FAGUNDES FRICKS', 'LUCIMARA COSTA NASCIMENTO', '2007-08-16', 2]"
   ]
  },
  {
   "cell_type": "code",
   "execution_count": 155,
   "metadata": {},
   "outputs": [
    {
     "data": {
      "text/plain": [
       "{'nome_a': 'FABIOLA FAGUNDES FRICKS',\n",
       " 'nome_mae_a': 'LUCIMARA COSTA NASCIMENTO',\n",
       " 'dt_nasc_a': '2007-08-16',\n",
       " 'sexo_a': 2}"
      ]
     },
     "execution_count": 155,
     "metadata": {},
     "output_type": "execute_result"
    }
   ],
   "source": [
    "# notice that we are linking indexed keys with tolink values\n",
    "tolink_cols_dict = dict(zip(indexed_cols, list_values))\n",
    "tolink_cols_dict"
   ]
  },
  {
   "cell_type": "code",
   "execution_count": 156,
   "metadata": {},
   "outputs": [
    {
     "data": {
      "text/plain": [
       "['nome_a', 'nome_mae_a', 'sexo_a']"
      ]
     },
     "execution_count": 156,
     "metadata": {},
     "output_type": "execute_result"
    }
   ],
   "source": [
    "indexed_exact_match_vars = [config_['comparisons'][x]['indexed_col'] for x in config_['comparisons'] if config_['comparisons'][x]['must_match'] == 'true']\n",
    "indexed_exact_match_vars"
   ]
  },
  {
   "cell_type": "code",
   "execution_count": 157,
   "metadata": {},
   "outputs": [],
   "source": [
    "# tolink_exact_match_vars = [config_['comparisons'][x]['tolink_col'] for x in config_['comparisons'] if config_['comparisons'][x]['must_match'] == 'true']\n",
    "# exact_match_vars"
   ]
  },
  {
   "cell_type": "code",
   "execution_count": 161,
   "metadata": {},
   "outputs": [
    {
     "data": {
      "text/plain": [
       "{'nome_a': 'FABIOLA FAGUNDES FRICKS',\n",
       " 'nome_mae_a': 'LUCIMARA COSTA NASCIMENTO',\n",
       " 'sexo_a': 2}"
      ]
     },
     "execution_count": 161,
     "metadata": {},
     "output_type": "execute_result"
    }
   ],
   "source": [
    "non_exact_match_cols = list(set(indexed_cols) - set(indexed_exact_match_vars))\n",
    "[tolink_cols_dict.pop(x, None) for x in non_exact_match_cols]\n",
    "tolink_cols_dict"
   ]
  },
  {
   "cell_type": "code",
   "execution_count": 135,
   "metadata": {},
   "outputs": [
    {
     "name": "stdout",
     "output_type": "stream",
     "text": [
      "<class 'int'>\n",
      "50\n"
     ]
    }
   ],
   "source": [
    "query_size = config_['query_size']\n",
    "print(type(query_size))\n",
    "print(query_size)"
   ]
  },
  {
   "cell_type": "code",
   "execution_count": 136,
   "metadata": {},
   "outputs": [],
   "source": [
    "prefix_ = \"\"\"{\"match\": {\"\"\"\n",
    "suffix_ = \"\"\"}}\"\"\""
   ]
  },
  {
   "cell_type": "code",
   "execution_count": 163,
   "metadata": {},
   "outputs": [
    {
     "name": "stdout",
     "output_type": "stream",
     "text": [
      "{\"match\": {\"nome_a\":\"FABIOLA FAGUNDES FRICKS\"}}\n",
      "{\"match\": {\"nome_mae_a\":\"LUCIMARA COSTA NASCIMENTO\"}}\n",
      "{\"match\": {\"sexo_a\":\"2\"}}\n"
     ]
    }
   ],
   "source": [
    "strings = []\n",
    "for col in list(tolink_cols_dict.keys()):\n",
    "    string = str(prefix_) + \"\\\"\" + str(col) + \"\\\"\" + \":\" + \"\\\"\" +  str(tolink_cols_dict[col]) + \"\\\"\" + str(suffix_)\n",
    "    print(string)\n",
    "    strings.append(string)"
   ]
  },
  {
   "cell_type": "code",
   "execution_count": 164,
   "metadata": {},
   "outputs": [
    {
     "data": {
      "text/plain": [
       "'{\"match\": {\"nome_a\":\"FABIOLA FAGUNDES FRICKS\"}},{\"match\": {\"nome_mae_a\":\"LUCIMARA COSTA NASCIMENTO\"}},{\"match\": {\"sexo_a\":\"2\"}}'"
      ]
     },
     "execution_count": 164,
     "metadata": {},
     "output_type": "execute_result"
    }
   ],
   "source": [
    "line = ','.join(strings)\n",
    "line"
   ]
  },
  {
   "cell_type": "code",
   "execution_count": 165,
   "metadata": {},
   "outputs": [
    {
     "data": {
      "text/plain": [
       "'{ \"size\": \"50\", \"query\": { \"bool\": { \"should\": [ {\"match\": {\"nome_a\":\"FABIOLA FAGUNDES FRICKS\"}},{\"match\": {\"nome_mae_a\":\"LUCIMARA COSTA NASCIMENTO\"}},{\"match\": {\"sexo_a\":\"2\"}} ] } } }'"
      ]
     },
     "execution_count": 165,
     "metadata": {},
     "output_type": "execute_result"
    }
   ],
   "source": [
    "complete_query = \"\"\"{ \"size\": \"%s\", \"query\": { \"bool\": { \"must\": [ %s ] } } }\"\"\" % (query_size,line)\n",
    "complete_query"
   ]
  },
  {
   "cell_type": "code",
   "execution_count": null,
   "metadata": {},
   "outputs": [],
   "source": []
  },
  {
   "cell_type": "code",
   "execution_count": 174,
   "metadata": {},
   "outputs": [],
   "source": []
  },
  {
   "cell_type": "code",
   "execution_count": null,
   "metadata": {},
   "outputs": [],
   "source": []
  },
  {
   "cell_type": "code",
   "execution_count": null,
   "metadata": {},
   "outputs": [],
   "source": []
  },
  {
   "cell_type": "code",
   "execution_count": null,
   "metadata": {},
   "outputs": [],
   "source": []
  },
  {
   "cell_type": "code",
   "execution_count": null,
   "metadata": {},
   "outputs": [],
   "source": []
  },
  {
   "cell_type": "code",
   "execution_count": null,
   "metadata": {},
   "outputs": [],
   "source": [
    "to_delete\n",
    "tolink_cols_dict = "
   ]
  },
  {
   "cell_type": "code",
   "execution_count": null,
   "metadata": {},
   "outputs": [],
   "source": [
    "content = {\n",
    "        'size': 5,\n",
    "        'query': {\n",
    "            'bool': {\n",
    "                'must': [\n",
    "                    {'match': {'lb_sex': sex}},\n",
    "                    {'match': {'lb_birthday_child': birthday_child}},\n",
    "                    {'match': {'lb_addr_residence': addr_residence}}\n",
    "                ]\n",
    "            }\n",
    "        }\n",
    "    }"
   ]
  },
  {
   "cell_type": "code",
   "execution_count": null,
   "metadata": {},
   "outputs": [],
   "source": [
    "content = {\n",
    "        'size': 5,\n",
    "        'query': {\n",
    "            'bool': {\n",
    "                'should': [\n",
    "                    {'match': {'lb_sex': {'query': sex, 'fuzziness':'AUTO', 'operator':'or', 'boost':'2.0'}}},\n",
    "                    {'match': {'lb_addr_residence': {'query': addr_residence, 'fuzziness':'AUTO', 'operator':'or', 'boost':'4.0'}}},\n",
    "                    {'match': {'lb_addr_occurrence': {'query': addr_occurrence, 'fuzziness':'AUTO', 'operator':'or', 'boost':'0.5'}}},\n",
    "                    {'match': {'lb_state_residence': {'query': state_residence, 'fuzziness':'AUTO', 'operator':'or', 'boost':'1.0'}}},\n",
    "                    {'match': {'lb_state_occurrence': {'query': state_occurrence, 'fuzziness':'AUTO', 'operator':'or', 'boost':'0.5'}}},\n",
    "                    {'match': {'lb_state_mun_residence': {'query': state_mun_residence, 'fuzziness':'AUTO', 'operator':'or', 'boost':'3.0'}}},\n",
    "                    {'match': {'lb_state_mun_occurrence': {'query': state_mun_occurrence, 'fuzziness':'AUTO', 'operator':'or', 'boost':'0.5'}}},\n",
    "                    {'match': {'lb_day_birth': {'query': day_birth}}},\n",
    "                    {'match': {'lb_month_birth': {'query': month_birth}}},\n",
    "                    {'match': {'lb_year_birth': {'query': year_birth}}},\n",
    "                    {'match': {'lb_mun_residence_pad': {'query': mun_residence_pad}}},\n",
    "                    {'match': {'lb_loc_residence_pad': {'query': loc_residence_pad}}},\n",
    "                    {'match': {'lb_mun_occurrence_pad': {'query': mun_occurrence_pad}}},\n",
    "                    {'match': {'lb_loc_occurrence_pad': {'query': loc_occurrence_pad}}},\n",
    "                    {'term': {'lb_birthday_child': birthday_child}}\n",
    "                ]\n",
    "            }\n",
    "        }\n",
    "    }"
   ]
  },
  {
   "cell_type": "code",
   "execution_count": 55,
   "metadata": {},
   "outputs": [
    {
     "data": {
      "text/plain": [
       "{'nome_a': {'compare_to': 'nome_b',\n",
       "  'must_match': 'true',\n",
       "  'should_match': 'true',\n",
       "  'is_fuzzy': 'true',\n",
       "  'boost': '3.0',\n",
       "  'query_type': 'match',\n",
       "  'similarity': 'jaro_wikler',\n",
       "  'weight': 1.0,\n",
       "  'penalty': 0.02},\n",
       " 'nome_mae_a': {'compare_to': 'nome_mae_b',\n",
       "  'must_match': 'true',\n",
       "  'should_match': 'true',\n",
       "  'is_fuzzy': 'true',\n",
       "  'boost': '2.0',\n",
       "  'query_type': 'match',\n",
       "  'similarity': 'jaro_wikler',\n",
       "  'weight': 1.0,\n",
       "  'penalty': 0.02},\n",
       " 'dt_nasc_a': {'compare_to': 'dt_nasc_b',\n",
       "  'must_match': 'false',\n",
       "  'should_match': 'true',\n",
       "  'is_fuzzy': 'false',\n",
       "  'boost': '',\n",
       "  'query_type': 'term',\n",
       "  'similarity': 'hamming',\n",
       "  'weight': 1.0,\n",
       "  'penalty': 0.02},\n",
       " 'sexo_a': {'compare_to': 'sexo_b',\n",
       "  'must_match': 'true',\n",
       "  'should_match': 'true',\n",
       "  'is_fuzzy': 'false',\n",
       "  'boost': '',\n",
       "  'query_type': 'term',\n",
       "  'similarity': 'overlap',\n",
       "  'weight': 1.0,\n",
       "  'penalty': 0.02}}"
      ]
     },
     "execution_count": 55,
     "metadata": {},
     "output_type": "execute_result"
    }
   ],
   "source": [
    "config['comparisons']"
   ]
  },
  {
   "cell_type": "code",
   "execution_count": null,
   "metadata": {},
   "outputs": [],
   "source": [
    "def build_queries(list_of_values_col, query_size):\n",
    "    \"\"\"\n",
    "    Let us suppose the following column values:\n",
    "    list_of_cols = ['ab', 'vbx']\n",
    "    list_of_values = ['2', 'mamao']\n",
    "    so, this udf must return a column with values like this: \n",
    "    {\"match\": {\"ab\":\"2\"}},{\"match\": {\"vbx\":\"mamao\"}}\n",
    "    \"\"\"\n",
    "    query_size = str(query_size)\n",
    "    list_of_cols = cols.value  # [x for x in cols.value if x != 'id']\n",
    "    prefix_ = \"\"\"{\"match\": {\"\"\"\n",
    "    suffix_ = \"\"\"}}\"\"\"\n",
    "    strings = []\n",
    "    dict_cols = dict(zip(list_of_cols, list_of_values_col))\n",
    "    \n",
    "    for col in list(dict_cols.keys()):\n",
    "        string = str(prefix_) + \"\\\"\" + str(col) + \"\\\"\" + \":\" + \"\\\"\" +  str(dict_cols[col]) + \"\\\"\" + str(suffix_)\n",
    "        strings.append(string)\n",
    "    \n",
    "    line = ','.join(strings)\n",
    "    complete_query = \"\"\"{ \"size\": \"%s\", \"query\": { \"bool\": { \"should\": [ %s ] } } }\"\"\" % (query_size,line)\n",
    "    return complete_query\n",
    "udf_build_queries = F.udf(build_queries, StringType()) "
   ]
  }
 ],
 "metadata": {
  "kernelspec": {
   "display_name": "Python 3",
   "language": "python",
   "name": "python3"
  },
  "language_info": {
   "codemirror_mode": {
    "name": "ipython",
    "version": 3
   },
   "file_extension": ".py",
   "mimetype": "text/x-python",
   "name": "python",
   "nbconvert_exporter": "python",
   "pygments_lexer": "ipython3",
   "version": "3.8.5"
  }
 },
 "nbformat": 4,
 "nbformat_minor": 4
}
