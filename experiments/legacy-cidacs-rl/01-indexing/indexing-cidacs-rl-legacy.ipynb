{
 "cells": [
  {
   "cell_type": "code",
   "execution_count": 3,
   "metadata": {},
   "outputs": [
    {
     "data": {
      "text/html": [
       "<div>\n",
       "<style scoped>\n",
       "    .dataframe tbody tr th:only-of-type {\n",
       "        vertical-align: middle;\n",
       "    }\n",
       "\n",
       "    .dataframe tbody tr th {\n",
       "        vertical-align: top;\n",
       "    }\n",
       "\n",
       "    .dataframe thead th {\n",
       "        text-align: right;\n",
       "    }\n",
       "</style>\n",
       "<table border=\"1\" class=\"dataframe\">\n",
       "  <thead>\n",
       "    <tr style=\"text-align: right;\">\n",
       "      <th></th>\n",
       "      <th>id_cidacs_a</th>\n",
       "      <th>nome_a</th>\n",
       "      <th>nome_mae_a</th>\n",
       "      <th>dt_nasc_a</th>\n",
       "      <th>sexo_a</th>\n",
       "    </tr>\n",
       "  </thead>\n",
       "  <tbody>\n",
       "    <tr>\n",
       "      <th>0</th>\n",
       "      <td>1</td>\n",
       "      <td>YASMIM VITORIA MATIAS FONSECA</td>\n",
       "      <td>TACIANY DOS SANTOS</td>\n",
       "      <td>20071122</td>\n",
       "      <td>2</td>\n",
       "    </tr>\n",
       "    <tr>\n",
       "      <th>1</th>\n",
       "      <td>2</td>\n",
       "      <td>PEDRO HENRIQUE MARTINS DE CARVALHO</td>\n",
       "      <td>FRANCILEIDE DOS SANTOS ALVES</td>\n",
       "      <td>20061102</td>\n",
       "      <td>1</td>\n",
       "    </tr>\n",
       "  </tbody>\n",
       "</table>\n",
       "</div>"
      ],
      "text/plain": [
       "  id_cidacs_a                              nome_a  \\\n",
       "0           1       YASMIM VITORIA MATIAS FONSECA   \n",
       "1           2  PEDRO HENRIQUE MARTINS DE CARVALHO   \n",
       "\n",
       "                     nome_mae_a dt_nasc_a sexo_a  \n",
       "0            TACIANY DOS SANTOS  20071122      2  \n",
       "1  FRANCILEIDE DOS SANTOS ALVES  20061102      1  "
      ]
     },
     "execution_count": 3,
     "metadata": {},
     "output_type": "execute_result"
    }
   ],
   "source": [
    "# df = spark.read.parquet('../../../../0_global_data/fd-cidacs-rl/sinthetic-dataset-A.parquet/')\n",
    "# df.coalesce(1).write.csv('../../../../0_global_data/fd-cidacs-rl/sinthetic-dataset-A-legacy.csv', header=True)\n",
    "# df.limit(2).toPandas()"
   ]
  },
  {
   "cell_type": "code",
   "execution_count": 4,
   "metadata": {
    "scrolled": true
   },
   "outputs": [],
   "source": [
    "import sys\n",
    "import json\n",
    "from elasticsearch import Elasticsearch, helpers\n",
    "import pandas as pd\n",
    "import time"
   ]
  },
  {
   "cell_type": "code",
   "execution_count": 5,
   "metadata": {},
   "outputs": [],
   "source": [
    "start = time.time()"
   ]
  },
  {
   "cell_type": "code",
   "execution_count": 6,
   "metadata": {},
   "outputs": [],
   "source": [
    "pd.set_option(\"display.max_rows\", 101)\n",
    "pd.set_option(\"display.max_columns\", 101)"
   ]
  },
  {
   "cell_type": "code",
   "execution_count": 7,
   "metadata": {},
   "outputs": [],
   "source": [
    "year = 'total'"
   ]
  },
  {
   "cell_type": "code",
   "execution_count": 8,
   "metadata": {},
   "outputs": [],
   "source": [
    "base_path = \"../../../../0_global_data/fd-cidacs-rl/sinthetic-dataset-A-legacy.csv/part-00000-d2adadb0-df8d-43ee-a436-1c89e1afd697-c000.csv\"\n",
    "index = \"fd-cidacs-rl-legacy\""
   ]
  },
  {
   "cell_type": "code",
   "execution_count": 9,
   "metadata": {},
   "outputs": [
    {
     "data": {
      "text/html": [
       "<div>\n",
       "<style scoped>\n",
       "    .dataframe tbody tr th:only-of-type {\n",
       "        vertical-align: middle;\n",
       "    }\n",
       "\n",
       "    .dataframe tbody tr th {\n",
       "        vertical-align: top;\n",
       "    }\n",
       "\n",
       "    .dataframe thead th {\n",
       "        text-align: right;\n",
       "    }\n",
       "</style>\n",
       "<table border=\"1\" class=\"dataframe\">\n",
       "  <thead>\n",
       "    <tr style=\"text-align: right;\">\n",
       "      <th></th>\n",
       "      <th>id_cidacs_a</th>\n",
       "      <th>nome_a</th>\n",
       "      <th>nome_mae_a</th>\n",
       "      <th>dt_nasc_a</th>\n",
       "      <th>sexo_a</th>\n",
       "    </tr>\n",
       "  </thead>\n",
       "  <tbody>\n",
       "    <tr>\n",
       "      <th>0</th>\n",
       "      <td>1</td>\n",
       "      <td>YASMIM VITORIA MATIAS FONSECA</td>\n",
       "      <td>TACIANY DOS SANTOS</td>\n",
       "      <td>20071122</td>\n",
       "      <td>2</td>\n",
       "    </tr>\n",
       "    <tr>\n",
       "      <th>1</th>\n",
       "      <td>2</td>\n",
       "      <td>PEDRO HENRIQUE MARTINS DE CARVALHO</td>\n",
       "      <td>FRANCILEIDE DOS SANTOS ALVES</td>\n",
       "      <td>20061102</td>\n",
       "      <td>1</td>\n",
       "    </tr>\n",
       "    <tr>\n",
       "      <th>2</th>\n",
       "      <td>3</td>\n",
       "      <td>FABRICIO RODRIGUES DOS SANTOS</td>\n",
       "      <td>MARCELA MACHADO DA SILVA</td>\n",
       "      <td>20071107</td>\n",
       "      <td>1</td>\n",
       "    </tr>\n",
       "    <tr>\n",
       "      <th>3</th>\n",
       "      <td>4</td>\n",
       "      <td>VINICIUS DA SILVA SOUZA</td>\n",
       "      <td>ELIZANGELA LIMA DA SILVA</td>\n",
       "      <td>20071008</td>\n",
       "      <td>1</td>\n",
       "    </tr>\n",
       "    <tr>\n",
       "      <th>4</th>\n",
       "      <td>5</td>\n",
       "      <td>LUAN FERREIRA DO NASCIMENTO</td>\n",
       "      <td>KEZIA NUNES GALDINO MONTEIRO</td>\n",
       "      <td>20080128</td>\n",
       "      <td>1</td>\n",
       "    </tr>\n",
       "    <tr>\n",
       "      <th>5</th>\n",
       "      <td>6</td>\n",
       "      <td>JOAO VITOR BORGES PEREIRA</td>\n",
       "      <td>DICIMARA LIMA MONTEIRO</td>\n",
       "      <td>20061002</td>\n",
       "      <td>1</td>\n",
       "    </tr>\n",
       "    <tr>\n",
       "      <th>6</th>\n",
       "      <td>7</td>\n",
       "      <td>JOAO PEDRO BATISTA DOS SANTOS</td>\n",
       "      <td>SOILA COSTA DA SILVA</td>\n",
       "      <td>20070903</td>\n",
       "      <td>1</td>\n",
       "    </tr>\n",
       "    <tr>\n",
       "      <th>7</th>\n",
       "      <td>8</td>\n",
       "      <td>AMANDA BANDEIRA BARRA</td>\n",
       "      <td>EDINEIA ESQUERDO BRAGA</td>\n",
       "      <td>20070610</td>\n",
       "      <td>2</td>\n",
       "    </tr>\n",
       "    <tr>\n",
       "      <th>8</th>\n",
       "      <td>9</td>\n",
       "      <td>GABRIEL COUTO GOMES</td>\n",
       "      <td>ROSILDA LEAL BARBOSA</td>\n",
       "      <td>20061008</td>\n",
       "      <td>1</td>\n",
       "    </tr>\n",
       "    <tr>\n",
       "      <th>9</th>\n",
       "      <td>10</td>\n",
       "      <td>LUIZA VITORIA BATISTA DOS SANTOS</td>\n",
       "      <td>EDILZA MAGALHAES DE SOUZA MARTINS</td>\n",
       "      <td>20061027</td>\n",
       "      <td>2</td>\n",
       "    </tr>\n",
       "  </tbody>\n",
       "</table>\n",
       "</div>"
      ],
      "text/plain": [
       "  id_cidacs_a                              nome_a  \\\n",
       "0           1       YASMIM VITORIA MATIAS FONSECA   \n",
       "1           2  PEDRO HENRIQUE MARTINS DE CARVALHO   \n",
       "2           3       FABRICIO RODRIGUES DOS SANTOS   \n",
       "3           4             VINICIUS DA SILVA SOUZA   \n",
       "4           5         LUAN FERREIRA DO NASCIMENTO   \n",
       "5           6           JOAO VITOR BORGES PEREIRA   \n",
       "6           7       JOAO PEDRO BATISTA DOS SANTOS   \n",
       "7           8               AMANDA BANDEIRA BARRA   \n",
       "8           9                 GABRIEL COUTO GOMES   \n",
       "9          10    LUIZA VITORIA BATISTA DOS SANTOS   \n",
       "\n",
       "                          nome_mae_a dt_nasc_a sexo_a  \n",
       "0                 TACIANY DOS SANTOS  20071122      2  \n",
       "1       FRANCILEIDE DOS SANTOS ALVES  20061102      1  \n",
       "2           MARCELA MACHADO DA SILVA  20071107      1  \n",
       "3           ELIZANGELA LIMA DA SILVA  20071008      1  \n",
       "4       KEZIA NUNES GALDINO MONTEIRO  20080128      1  \n",
       "5             DICIMARA LIMA MONTEIRO  20061002      1  \n",
       "6               SOILA COSTA DA SILVA  20070903      1  \n",
       "7             EDINEIA ESQUERDO BRAGA  20070610      2  \n",
       "8               ROSILDA LEAL BARBOSA  20061008      1  \n",
       "9  EDILZA MAGALHAES DE SOUZA MARTINS  20061027      2  "
      ]
     },
     "execution_count": 9,
     "metadata": {},
     "output_type": "execute_result"
    }
   ],
   "source": [
    "# showing the live birth data\n",
    "spark.read.csv(base_path, header=True).limit(10).toPandas()"
   ]
  },
  {
   "cell_type": "code",
   "execution_count": 10,
   "metadata": {},
   "outputs": [
    {
     "data": {
      "text/plain": [
       "1000000"
      ]
     },
     "execution_count": 10,
     "metadata": {},
     "output_type": "execute_result"
    }
   ],
   "source": [
    "spark.read.csv(base_path, header=True).count()"
   ]
  },
  {
   "cell_type": "code",
   "execution_count": 11,
   "metadata": {},
   "outputs": [],
   "source": [
    "es = Elasticsearch()"
   ]
  },
  {
   "cell_type": "code",
   "execution_count": 12,
   "metadata": {},
   "outputs": [],
   "source": [
    "bulksize = 12*1000*1000"
   ]
  },
  {
   "cell_type": "code",
   "execution_count": 13,
   "metadata": {},
   "outputs": [],
   "source": [
    "h = {\n",
    "    'id_cidacs_a':0,\n",
    "    'nome_a':1,\n",
    "    'nome_mae_a':2,\n",
    "    'dt_nasc_a':3,\n",
    "    'sexo_a':4  \n",
    "}"
   ]
  },
  {
   "cell_type": "code",
   "execution_count": 16,
   "metadata": {},
   "outputs": [
    {
     "name": "stderr",
     "output_type": "stream",
     "text": [
      "/home/pierre/anaconda3/lib/python3.8/site-packages/elasticsearch/connection/base.py:193: ElasticsearchDeprecationWarning: [types removal] Specifying types in bulk requests is deprecated.\n",
      "  warnings.warn(message, category=ElasticsearchDeprecationWarning)\n"
     ]
    },
    {
     "name": "stdout",
     "output_type": "stream",
     "text": [
      "1000001\n"
     ]
    }
   ],
   "source": [
    "f = open(base_path, 'r')\n",
    "data  = list()\n",
    "header = True\n",
    "n = 0\n",
    "for l in f:\n",
    "    n += 1\n",
    "    if header:\n",
    "        header = False\n",
    "        continue\n",
    "    l = l.replace('\\n', '').split(',')\n",
    "    seq = l[h['id_cidacs_a']].strip()\n",
    "    nome_a = l[h['nome_a']].strip()\n",
    "    nome_mae_a = l[h['nome_mae_a']].strip()\n",
    "    dt_nasc_a = l[h['dt_nasc_a']].strip()\n",
    "    sexo_a = l[h['sexo_a']].strip()\n",
    "\n",
    "    content = {\n",
    "        '_index':index,\n",
    "        '_type':'pessoa',\n",
    "        '_id':seq,\n",
    "        '_source':{\n",
    "            'nome_a':nome_a,\n",
    "            'nome_mae_a':nome_mae_a,\n",
    "            'dt_nasc_a':dt_nasc_a,\n",
    "            'sexo_a':sexo_a\n",
    "        }\n",
    "    }\n",
    "    \n",
    "    data.append(content)\n",
    "    \n",
    "    # commit after bulksize is reached\n",
    "    if sys.getsizeof(data)*10 > bulksize:\n",
    "        force = True\n",
    "        while(force):\n",
    "            try:\n",
    "                helpers.bulk(es, data)\n",
    "                force = False\n",
    "            except:\n",
    "                continue\n",
    "        # clean data\n",
    "        data = list()\n",
    "\n",
    "helpers.bulk(es, data)\n",
    "f.close()\n",
    "print(n)"
   ]
  },
  {
   "cell_type": "code",
   "execution_count": 17,
   "metadata": {},
   "outputs": [
    {
     "name": "stdout",
     "output_type": "stream",
     "text": [
      "Tempo total: 163.60894918441772 secs\n"
     ]
    }
   ],
   "source": [
    "print(\"Tempo total: {} secs\".format(time.time()-start))"
   ]
  },
  {
   "cell_type": "code",
   "execution_count": 18,
   "metadata": {},
   "outputs": [
    {
     "data": {
      "text/plain": [
       "119506"
      ]
     },
     "execution_count": 18,
     "metadata": {},
     "output_type": "execute_result"
    }
   ],
   "source": [
    "len(data)"
   ]
  },
  {
   "cell_type": "code",
   "execution_count": 19,
   "metadata": {},
   "outputs": [
    {
     "data": {
      "text/plain": [
       "1000001"
      ]
     },
     "execution_count": 19,
     "metadata": {},
     "output_type": "execute_result"
    }
   ],
   "source": [
    "n"
   ]
  },
  {
   "cell_type": "code",
   "execution_count": 20,
   "metadata": {},
   "outputs": [
    {
     "data": {
      "text/plain": [
       "119506"
      ]
     },
     "execution_count": 20,
     "metadata": {},
     "output_type": "execute_result"
    }
   ],
   "source": [
    "len(data)"
   ]
  },
  {
   "cell_type": "code",
   "execution_count": 21,
   "metadata": {},
   "outputs": [
    {
     "data": {
      "text/plain": [
       "{'count': 1000000,\n",
       " '_shards': {'total': 1, 'successful': 1, 'skipped': 0, 'failed': 0}}"
      ]
     },
     "execution_count": 21,
     "metadata": {},
     "output_type": "execute_result"
    }
   ],
   "source": [
    "es.count(index=index)"
   ]
  },
  {
   "cell_type": "code",
   "execution_count": null,
   "metadata": {},
   "outputs": [],
   "source": []
  }
 ],
 "metadata": {
  "kernelspec": {
   "display_name": "Python 3",
   "language": "python",
   "name": "python3"
  },
  "language_info": {
   "codemirror_mode": {
    "name": "ipython",
    "version": 3
   },
   "file_extension": ".py",
   "mimetype": "text/x-python",
   "name": "python",
   "nbconvert_exporter": "python",
   "pygments_lexer": "ipython3",
   "version": "3.8.5"
  }
 },
 "nbformat": 4,
 "nbformat_minor": 4
}
